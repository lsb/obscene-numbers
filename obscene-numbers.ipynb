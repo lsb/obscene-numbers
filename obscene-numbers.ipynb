{
 "cells": [
  {
   "cell_type": "code",
   "execution_count": 1,
   "metadata": {},
   "outputs": [],
   "source": [
    "from fastai.text.all import *"
   ]
  },
  {
   "cell_type": "code",
   "execution_count": 2,
   "metadata": {},
   "outputs": [],
   "source": [
    "humnumpth = untar_data(URLs.HUMAN_NUMBERS)"
   ]
  },
  {
   "cell_type": "code",
   "execution_count": 3,
   "metadata": {},
   "outputs": [],
   "source": [
    "hntrain = open(humnumpth / 'train.txt').readlines()"
   ]
  },
  {
   "cell_type": "code",
   "execution_count": 4,
   "metadata": {},
   "outputs": [],
   "source": [
    "hnvalid = open(humnumpth / 'valid.txt').readlines()"
   ]
  },
  {
   "cell_type": "code",
   "execution_count": 5,
   "metadata": {},
   "outputs": [
    {
     "data": {
      "text/plain": [
       "['eight thousand one \\n',\n",
       " 'eight thousand two \\n',\n",
       " 'eight thousand three \\n',\n",
       " 'eight thousand four \\n',\n",
       " 'eight thousand five \\n']"
      ]
     },
     "execution_count": 5,
     "metadata": {},
     "output_type": "execute_result"
    }
   ],
   "source": [
    "hnvalid[:5]"
   ]
  },
  {
   "cell_type": "code",
   "execution_count": 6,
   "metadata": {},
   "outputs": [
    {
     "data": {
      "text/plain": [
       "['seven thousand nine hundred ninety five \\n',\n",
       " 'seven thousand nine hundred ninety six \\n',\n",
       " 'seven thousand nine hundred ninety seven \\n',\n",
       " 'seven thousand nine hundred ninety eight \\n',\n",
       " 'seven thousand nine hundred ninety nine \\n']"
      ]
     },
     "execution_count": 6,
     "metadata": {},
     "output_type": "execute_result"
    }
   ],
   "source": [
    "hntrain[-5:]"
   ]
  },
  {
   "cell_type": "code",
   "execution_count": 7,
   "metadata": {},
   "outputs": [],
   "source": [
    "human10k = [s.strip() for s in [\"zero \\n\", *hntrain, \"eight thousand \\n\", *hnvalid, \"ten thousand \\n\"]]"
   ]
  },
  {
   "cell_type": "code",
   "execution_count": 8,
   "metadata": {},
   "outputs": [],
   "source": [
    "obscene = f\"{23 * 3}\""
   ]
  },
  {
   "cell_type": "code",
   "execution_count": 9,
   "metadata": {},
   "outputs": [],
   "source": [
    "nonobscene_indices = [i for i in range(10001) if not re.search(obscene, f\"{i}\")]\n",
    "obscene_indices = [i for i in range(10001) if re.search(obscene, f\"{i}\")]"
   ]
  },
  {
   "cell_type": "code",
   "execution_count": 10,
   "metadata": {},
   "outputs": [],
   "source": [
    "nonobscene_numbers = [human10k[i] for i in nonobscene_indices]\n",
    "obscene_numbers = [human10k[i] for i in obscene_indices]"
   ]
  },
  {
   "cell_type": "code",
   "execution_count": 11,
   "metadata": {},
   "outputs": [],
   "source": [
    "nndf = pd.DataFrame(data={\"txt\": [s.strip() for s in nonobscene_numbers]})\n",
    "ondf = pd.DataFrame(data={\"txt\": [s.strip() for s in obscene_numbers]})"
   ]
  },
  {
   "cell_type": "code",
   "execution_count": 12,
   "metadata": {},
   "outputs": [
    {
     "data": {
      "text/html": [
       "<div>\n",
       "<style scoped>\n",
       "    .dataframe tbody tr th:only-of-type {\n",
       "        vertical-align: middle;\n",
       "    }\n",
       "\n",
       "    .dataframe tbody tr th {\n",
       "        vertical-align: top;\n",
       "    }\n",
       "\n",
       "    .dataframe thead th {\n",
       "        text-align: right;\n",
       "    }\n",
       "</style>\n",
       "<table border=\"1\" class=\"dataframe\">\n",
       "  <thead>\n",
       "    <tr style=\"text-align: right;\">\n",
       "      <th></th>\n",
       "      <th>txt</th>\n",
       "    </tr>\n",
       "  </thead>\n",
       "  <tbody>\n",
       "    <tr>\n",
       "      <th>0</th>\n",
       "      <td>zero</td>\n",
       "    </tr>\n",
       "    <tr>\n",
       "      <th>1</th>\n",
       "      <td>one</td>\n",
       "    </tr>\n",
       "    <tr>\n",
       "      <th>2</th>\n",
       "      <td>two</td>\n",
       "    </tr>\n",
       "    <tr>\n",
       "      <th>3</th>\n",
       "      <td>three</td>\n",
       "    </tr>\n",
       "    <tr>\n",
       "      <th>4</th>\n",
       "      <td>four</td>\n",
       "    </tr>\n",
       "    <tr>\n",
       "      <th>...</th>\n",
       "      <td>...</td>\n",
       "    </tr>\n",
       "    <tr>\n",
       "      <th>9697</th>\n",
       "      <td>nine thousand nine hundred ninety six</td>\n",
       "    </tr>\n",
       "    <tr>\n",
       "      <th>9698</th>\n",
       "      <td>nine thousand nine hundred ninety seven</td>\n",
       "    </tr>\n",
       "    <tr>\n",
       "      <th>9699</th>\n",
       "      <td>nine thousand nine hundred ninety eight</td>\n",
       "    </tr>\n",
       "    <tr>\n",
       "      <th>9700</th>\n",
       "      <td>nine thousand nine hundred ninety nine</td>\n",
       "    </tr>\n",
       "    <tr>\n",
       "      <th>9701</th>\n",
       "      <td>ten thousand</td>\n",
       "    </tr>\n",
       "  </tbody>\n",
       "</table>\n",
       "<p>9702 rows × 1 columns</p>\n",
       "</div>"
      ],
      "text/plain": [
       "                                          txt\n",
       "0                                        zero\n",
       "1                                         one\n",
       "2                                         two\n",
       "3                                       three\n",
       "4                                        four\n",
       "...                                       ...\n",
       "9697    nine thousand nine hundred ninety six\n",
       "9698  nine thousand nine hundred ninety seven\n",
       "9699  nine thousand nine hundred ninety eight\n",
       "9700   nine thousand nine hundred ninety nine\n",
       "9701                             ten thousand\n",
       "\n",
       "[9702 rows x 1 columns]"
      ]
     },
     "execution_count": 12,
     "metadata": {},
     "output_type": "execute_result"
    }
   ],
   "source": [
    "nndf"
   ]
  },
  {
   "cell_type": "code",
   "execution_count": 13,
   "metadata": {},
   "outputs": [
    {
     "data": {
      "text/html": [
       "<div>\n",
       "<style scoped>\n",
       "    .dataframe tbody tr th:only-of-type {\n",
       "        vertical-align: middle;\n",
       "    }\n",
       "\n",
       "    .dataframe tbody tr th {\n",
       "        vertical-align: top;\n",
       "    }\n",
       "\n",
       "    .dataframe thead th {\n",
       "        text-align: right;\n",
       "    }\n",
       "</style>\n",
       "<table border=\"1\" class=\"dataframe\">\n",
       "  <thead>\n",
       "    <tr style=\"text-align: right;\">\n",
       "      <th></th>\n",
       "      <th>txt</th>\n",
       "    </tr>\n",
       "  </thead>\n",
       "  <tbody>\n",
       "    <tr>\n",
       "      <th>0</th>\n",
       "      <td>sixty nine</td>\n",
       "    </tr>\n",
       "    <tr>\n",
       "      <th>1</th>\n",
       "      <td>one hundred sixty nine</td>\n",
       "    </tr>\n",
       "    <tr>\n",
       "      <th>2</th>\n",
       "      <td>two hundred sixty nine</td>\n",
       "    </tr>\n",
       "    <tr>\n",
       "      <th>3</th>\n",
       "      <td>three hundred sixty nine</td>\n",
       "    </tr>\n",
       "    <tr>\n",
       "      <th>4</th>\n",
       "      <td>four hundred sixty nine</td>\n",
       "    </tr>\n",
       "    <tr>\n",
       "      <th>...</th>\n",
       "      <td>...</td>\n",
       "    </tr>\n",
       "    <tr>\n",
       "      <th>294</th>\n",
       "      <td>nine thousand six hundred ninety eight</td>\n",
       "    </tr>\n",
       "    <tr>\n",
       "      <th>295</th>\n",
       "      <td>nine thousand six hundred ninety nine</td>\n",
       "    </tr>\n",
       "    <tr>\n",
       "      <th>296</th>\n",
       "      <td>nine thousand seven hundred sixty nine</td>\n",
       "    </tr>\n",
       "    <tr>\n",
       "      <th>297</th>\n",
       "      <td>nine thousand eight hundred sixty nine</td>\n",
       "    </tr>\n",
       "    <tr>\n",
       "      <th>298</th>\n",
       "      <td>nine thousand nine hundred sixty nine</td>\n",
       "    </tr>\n",
       "  </tbody>\n",
       "</table>\n",
       "<p>299 rows × 1 columns</p>\n",
       "</div>"
      ],
      "text/plain": [
       "                                        txt\n",
       "0                                sixty nine\n",
       "1                    one hundred sixty nine\n",
       "2                    two hundred sixty nine\n",
       "3                  three hundred sixty nine\n",
       "4                   four hundred sixty nine\n",
       "..                                      ...\n",
       "294  nine thousand six hundred ninety eight\n",
       "295   nine thousand six hundred ninety nine\n",
       "296  nine thousand seven hundred sixty nine\n",
       "297  nine thousand eight hundred sixty nine\n",
       "298   nine thousand nine hundred sixty nine\n",
       "\n",
       "[299 rows x 1 columns]"
      ]
     },
     "execution_count": 13,
     "metadata": {},
     "output_type": "execute_result"
    }
   ],
   "source": [
    "ondf"
   ]
  },
  {
   "cell_type": "code",
   "execution_count": 14,
   "metadata": {},
   "outputs": [],
   "source": [
    "ndb = DataBlock(blocks=TextBlock.from_df('txt',is_lm=True,seq_len=6),get_x=ColReader('text'),splitter=RandomSplitter(0.1))"
   ]
  },
  {
   "cell_type": "code",
   "execution_count": 15,
   "metadata": {},
   "outputs": [],
   "source": [
    "bs=64"
   ]
  },
  {
   "cell_type": "code",
   "execution_count": 16,
   "metadata": {},
   "outputs": [
    {
     "data": {
      "text/html": [],
      "text/plain": [
       "<IPython.core.display.HTML object>"
      ]
     },
     "metadata": {},
     "output_type": "display_data"
    }
   ],
   "source": [
    "nndl = ndb.dataloaders(nndf, bs=bs)"
   ]
  },
  {
   "cell_type": "code",
   "execution_count": 17,
   "metadata": {},
   "outputs": [
    {
     "data": {
      "text/plain": [
       "['xxunk',\n",
       " 'xxpad',\n",
       " 'xxbos',\n",
       " 'xxeos',\n",
       " 'xxfld',\n",
       " 'xxrep',\n",
       " 'xxwrep',\n",
       " 'xxup',\n",
       " 'xxmaj',\n",
       " 'thousand',\n",
       " 'hundred',\n",
       " 'one',\n",
       " 'two',\n",
       " 'three',\n",
       " 'four',\n",
       " 'five',\n",
       " 'seven',\n",
       " 'eight',\n",
       " 'nine',\n",
       " 'six',\n",
       " 'twenty',\n",
       " 'thirty',\n",
       " 'forty',\n",
       " 'fifty',\n",
       " 'seventy',\n",
       " 'eighty',\n",
       " 'sixty',\n",
       " 'ninety',\n",
       " 'ten',\n",
       " 'eleven',\n",
       " 'twelve',\n",
       " 'thirteen',\n",
       " 'fourteen',\n",
       " 'fifteen',\n",
       " 'sixteen',\n",
       " 'seventeen',\n",
       " 'eighteen',\n",
       " 'nineteen',\n",
       " 'xxfake',\n",
       " 'xxfake']"
      ]
     },
     "execution_count": 17,
     "metadata": {},
     "output_type": "execute_result"
    }
   ],
   "source": [
    "nndl.vocab"
   ]
  },
  {
   "cell_type": "code",
   "execution_count": 18,
   "metadata": {},
   "outputs": [
    {
     "data": {
      "text/html": [],
      "text/plain": [
       "<IPython.core.display.HTML object>"
      ]
     },
     "metadata": {},
     "output_type": "display_data"
    }
   ],
   "source": [
    "ondl = DataBlock(blocks=TextBlock.from_df('txt',is_lm=True,seq_len=6,vocab=nndl.vocab),get_x=ColReader('text'),splitter=RandomSplitter(0.1)).dataloaders(ondf, bs=bs)"
   ]
  },
  {
   "cell_type": "code",
   "execution_count": 19,
   "metadata": {},
   "outputs": [
    {
     "data": {
      "text/html": [
       "<table border=\"1\" class=\"dataframe\">\n",
       "  <thead>\n",
       "    <tr style=\"text-align: right;\">\n",
       "      <th></th>\n",
       "      <th>text</th>\n",
       "      <th>text_</th>\n",
       "    </tr>\n",
       "  </thead>\n",
       "  <tbody>\n",
       "    <tr>\n",
       "      <th>0</th>\n",
       "      <td>xxbos eight hundred eighty seven xxbos</td>\n",
       "      <td>eight hundred eighty seven xxbos one</td>\n",
       "    </tr>\n",
       "    <tr>\n",
       "      <th>1</th>\n",
       "      <td>xxbos seven thousand ninety nine xxbos</td>\n",
       "      <td>seven thousand ninety nine xxbos six</td>\n",
       "    </tr>\n",
       "    <tr>\n",
       "      <th>2</th>\n",
       "      <td>forty seven xxbos eight thousand five</td>\n",
       "      <td>seven xxbos eight thousand five hundred</td>\n",
       "    </tr>\n",
       "    <tr>\n",
       "      <th>3</th>\n",
       "      <td>thousand four hundred eleven xxbos five</td>\n",
       "      <td>four hundred eleven xxbos five thousand</td>\n",
       "    </tr>\n",
       "    <tr>\n",
       "      <th>4</th>\n",
       "      <td>six thousand three hundred four xxbos</td>\n",
       "      <td>thousand three hundred four xxbos three</td>\n",
       "    </tr>\n",
       "    <tr>\n",
       "      <th>5</th>\n",
       "      <td>eight hundred seventy four xxbos five</td>\n",
       "      <td>hundred seventy four xxbos five hundred</td>\n",
       "    </tr>\n",
       "    <tr>\n",
       "      <th>6</th>\n",
       "      <td>eight xxbos two thousand three hundred</td>\n",
       "      <td>xxbos two thousand three hundred thirty</td>\n",
       "    </tr>\n",
       "    <tr>\n",
       "      <th>7</th>\n",
       "      <td>xxbos one thousand six hundred sixty</td>\n",
       "      <td>one thousand six hundred sixty one</td>\n",
       "    </tr>\n",
       "    <tr>\n",
       "      <th>8</th>\n",
       "      <td>hundred seventy six xxbos two hundred</td>\n",
       "      <td>seventy six xxbos two hundred forty</td>\n",
       "    </tr>\n",
       "  </tbody>\n",
       "</table>"
      ],
      "text/plain": [
       "<IPython.core.display.HTML object>"
      ]
     },
     "metadata": {},
     "output_type": "display_data"
    }
   ],
   "source": [
    "nndl.show_batch()"
   ]
  },
  {
   "cell_type": "code",
   "execution_count": 20,
   "metadata": {},
   "outputs": [
    {
     "data": {
      "text/html": [
       "<table border=\"1\" class=\"dataframe\">\n",
       "  <thead>\n",
       "    <tr style=\"text-align: right;\">\n",
       "      <th></th>\n",
       "      <th>text</th>\n",
       "      <th>text_</th>\n",
       "    </tr>\n",
       "  </thead>\n",
       "  <tbody>\n",
       "    <tr>\n",
       "      <th>0</th>\n",
       "      <td>xxbos three thousand four hundred sixty</td>\n",
       "      <td>three thousand four hundred sixty nine</td>\n",
       "    </tr>\n",
       "    <tr>\n",
       "      <th>1</th>\n",
       "      <td>thousand sixty nine xxbos two thousand</td>\n",
       "      <td>sixty nine xxbos two thousand sixty</td>\n",
       "    </tr>\n",
       "    <tr>\n",
       "      <th>2</th>\n",
       "      <td>thousand eight hundred sixty nine xxbos</td>\n",
       "      <td>eight hundred sixty nine xxbos eight</td>\n",
       "    </tr>\n",
       "    <tr>\n",
       "      <th>3</th>\n",
       "      <td>thousand six hundred ninety eight xxbos</td>\n",
       "      <td>six hundred ninety eight xxbos seven</td>\n",
       "    </tr>\n",
       "    <tr>\n",
       "      <th>4</th>\n",
       "      <td>hundred ninety three xxbos six thousand</td>\n",
       "      <td>ninety three xxbos six thousand six</td>\n",
       "    </tr>\n",
       "    <tr>\n",
       "      <th>5</th>\n",
       "      <td>hundred ninety nine xxbos three thousand</td>\n",
       "      <td>ninety nine xxbos three thousand six</td>\n",
       "    </tr>\n",
       "    <tr>\n",
       "      <th>6</th>\n",
       "      <td>hundred sixty nine xxbos five thousand</td>\n",
       "      <td>sixty nine xxbos five thousand six</td>\n",
       "    </tr>\n",
       "    <tr>\n",
       "      <th>7</th>\n",
       "      <td>hundred seventy six xxbos five thousand</td>\n",
       "      <td>seventy six xxbos five thousand seven</td>\n",
       "    </tr>\n",
       "    <tr>\n",
       "      <th>8</th>\n",
       "      <td>hundred sixty nine xxbos six thousand</td>\n",
       "      <td>sixty nine xxbos six thousand nine</td>\n",
       "    </tr>\n",
       "  </tbody>\n",
       "</table>"
      ],
      "text/plain": [
       "<IPython.core.display.HTML object>"
      ]
     },
     "metadata": {},
     "output_type": "display_data"
    }
   ],
   "source": [
    "ondl.show_batch()"
   ]
  },
  {
   "cell_type": "code",
   "execution_count": 21,
   "metadata": {},
   "outputs": [],
   "source": [
    "dataloader_to_lm_learner = lambda dl: language_model_learner(dl, AWD_LSTM, drop_mult=0.3, metrics=[accuracy, Perplexity()]).to_fp16()"
   ]
  },
  {
   "cell_type": "code",
   "execution_count": 22,
   "metadata": {},
   "outputs": [],
   "source": [
    "lml = dataloader_to_lm_learner(nndl)"
   ]
  },
  {
   "cell_type": "code",
   "execution_count": 23,
   "metadata": {},
   "outputs": [
    {
     "data": {
      "text/plain": [
       "Path('models/nnonlml.pth')"
      ]
     },
     "execution_count": 23,
     "metadata": {},
     "output_type": "execute_result"
    }
   ],
   "source": [
    "lml.save('nnonlml')"
   ]
  },
  {
   "cell_type": "code",
   "execution_count": 24,
   "metadata": {},
   "outputs": [
    {
     "data": {
      "text/html": [],
      "text/plain": [
       "<IPython.core.display.HTML object>"
      ]
     },
     "metadata": {},
     "output_type": "display_data"
    },
    {
     "data": {
      "text/plain": [
       "SuggestedLRs(lr_min=0.10964782238006592, lr_steep=0.02754228748381138)"
      ]
     },
     "execution_count": 24,
     "metadata": {},
     "output_type": "execute_result"
    },
    {
     "data": {
      "image/png": "[encoded data removed]",
      "text/plain": [
       "<Figure size 432x288 with 1 Axes>"
      ]
     },
     "metadata": {
      "needs_background": "light"
     },
     "output_type": "display_data"
    }
   ],
   "source": [
    "lml.lr_find()"
   ]
  },
  {
   "cell_type": "code",
   "execution_count": 25,
   "metadata": {},
   "outputs": [
    {
     "data": {
      "text/plain": [
       "<fastai.text.learner.LMLearner at 0x7ff1dd5f3490>"
      ]
     },
     "execution_count": 25,
     "metadata": {},
     "output_type": "execute_result"
    }
   ],
   "source": [
    "lml.load('nnonlml')"
   ]
  },
  {
   "cell_type": "code",
   "execution_count": 26,
   "metadata": {},
   "outputs": [
    {
     "data": {
      "text/html": [
       "<table border=\"1\" class=\"dataframe\">\n",
       "  <thead>\n",
       "    <tr style=\"text-align: left;\">\n",
       "      <th>epoch</th>\n",
       "      <th>train_loss</th>\n",
       "      <th>valid_loss</th>\n",
       "      <th>accuracy</th>\n",
       "      <th>perplexity</th>\n",
       "      <th>time</th>\n",
       "    </tr>\n",
       "  </thead>\n",
       "  <tbody>\n",
       "    <tr>\n",
       "      <td>0</td>\n",
       "      <td>2.512263</td>\n",
       "      <td>1.631409</td>\n",
       "      <td>0.462630</td>\n",
       "      <td>5.111073</td>\n",
       "      <td>00:24</td>\n",
       "    </tr>\n",
       "    <tr>\n",
       "      <td>1</td>\n",
       "      <td>1.729823</td>\n",
       "      <td>1.517340</td>\n",
       "      <td>0.468750</td>\n",
       "      <td>4.560077</td>\n",
       "      <td>00:20</td>\n",
       "    </tr>\n",
       "    <tr>\n",
       "      <td>2</td>\n",
       "      <td>1.612885</td>\n",
       "      <td>1.494922</td>\n",
       "      <td>0.475749</td>\n",
       "      <td>4.458991</td>\n",
       "      <td>00:20</td>\n",
       "    </tr>\n",
       "    <tr>\n",
       "      <td>3</td>\n",
       "      <td>1.570883</td>\n",
       "      <td>1.486035</td>\n",
       "      <td>0.473698</td>\n",
       "      <td>4.419537</td>\n",
       "      <td>00:20</td>\n",
       "    </tr>\n",
       "    <tr>\n",
       "      <td>4</td>\n",
       "      <td>1.557382</td>\n",
       "      <td>1.478697</td>\n",
       "      <td>0.468913</td>\n",
       "      <td>4.387227</td>\n",
       "      <td>00:20</td>\n",
       "    </tr>\n",
       "    <tr>\n",
       "      <td>5</td>\n",
       "      <td>1.533888</td>\n",
       "      <td>1.475755</td>\n",
       "      <td>0.474609</td>\n",
       "      <td>4.374337</td>\n",
       "      <td>00:21</td>\n",
       "    </tr>\n",
       "    <tr>\n",
       "      <td>6</td>\n",
       "      <td>1.528814</td>\n",
       "      <td>1.473010</td>\n",
       "      <td>0.469564</td>\n",
       "      <td>4.362345</td>\n",
       "      <td>00:21</td>\n",
       "    </tr>\n",
       "    <tr>\n",
       "      <td>7</td>\n",
       "      <td>1.528247</td>\n",
       "      <td>1.469909</td>\n",
       "      <td>0.474967</td>\n",
       "      <td>4.348840</td>\n",
       "      <td>00:21</td>\n",
       "    </tr>\n",
       "    <tr>\n",
       "      <td>8</td>\n",
       "      <td>1.523659</td>\n",
       "      <td>1.467473</td>\n",
       "      <td>0.474512</td>\n",
       "      <td>4.338260</td>\n",
       "      <td>00:21</td>\n",
       "    </tr>\n",
       "    <tr>\n",
       "      <td>9</td>\n",
       "      <td>1.519779</td>\n",
       "      <td>1.467744</td>\n",
       "      <td>0.468522</td>\n",
       "      <td>4.339434</td>\n",
       "      <td>00:23</td>\n",
       "    </tr>\n",
       "  </tbody>\n",
       "</table>"
      ],
      "text/plain": [
       "<IPython.core.display.HTML object>"
      ]
     },
     "metadata": {},
     "output_type": "display_data"
    }
   ],
   "source": [
    "lml.fit_one_cycle(10, 1e-2)"
   ]
  },
  {
   "cell_type": "code",
   "execution_count": 27,
   "metadata": {},
   "outputs": [
    {
     "data": {
      "text/plain": [
       "Path('models/nnonlml.pth')"
      ]
     },
     "execution_count": 27,
     "metadata": {},
     "output_type": "execute_result"
    }
   ],
   "source": [
    "lml.save('nnonlml')"
   ]
  },
  {
   "cell_type": "code",
   "execution_count": 28,
   "metadata": {},
   "outputs": [
    {
     "data": {
      "text/html": [],
      "text/plain": [
       "<IPython.core.display.HTML object>"
      ]
     },
     "metadata": {},
     "output_type": "display_data"
    },
    {
     "data": {
      "text/plain": [
       "SuggestedLRs(lr_min=0.0006309573538601399, lr_steep=6.309573450380412e-07)"
      ]
     },
     "execution_count": 28,
     "metadata": {},
     "output_type": "execute_result"
    },
    {
     "data": {
      "image/png": "[encoded data removed]",
      "text/plain": [
       "<Figure size 432x288 with 1 Axes>"
      ]
     },
     "metadata": {
      "needs_background": "light"
     },
     "output_type": "display_data"
    }
   ],
   "source": [
    "lml.lr_find()"
   ]
  },
  {
   "cell_type": "code",
   "execution_count": 29,
   "metadata": {},
   "outputs": [
    {
     "data": {
      "text/plain": [
       "<fastai.text.learner.LMLearner at 0x7ff1dd5f3490>"
      ]
     },
     "execution_count": 29,
     "metadata": {},
     "output_type": "execute_result"
    }
   ],
   "source": [
    "lml.load('nnonlml')"
   ]
  },
  {
   "cell_type": "code",
   "execution_count": 30,
   "metadata": {},
   "outputs": [
    {
     "data": {
      "text/plain": [
       "(array(['sixty', 'sixty eight', 'sixty four', 'sixty fourteen',\n",
       "        'sixty hundred', 'sixty nineteen', 'sixty seventy', 'sixty six',\n",
       "        'sixty sixteen', 'sixty thirty', 'sixty thousand', 'sixty three',\n",
       "        'sixty twenty', 'sixty two', 'sixty xxeos'], dtype='<U14'),\n",
       " array([2, 1, 1, 1, 1, 2, 2, 1, 1, 1, 1, 1, 2, 2, 1]))"
      ]
     },
     "execution_count": 30,
     "metadata": {},
     "output_type": "execute_result"
    }
   ],
   "source": [
    "np.unique([lml.predict(\"sixty\", 1, temperature=5, no_bar=True) for i in range(20)], return_counts=True)"
   ]
  },
  {
   "cell_type": "code",
   "execution_count": 31,
   "metadata": {},
   "outputs": [],
   "source": [
    "after_sixty = lambda lm,t,c: np.unique([lm.predict(\"sixty\", 1, temperature=t, no_bar=True) for i in range(c)], return_counts=True)"
   ]
  },
  {
   "cell_type": "code",
   "execution_count": 32,
   "metadata": {},
   "outputs": [],
   "source": [
    "sixteenth_to_two_temperatures_after_sixty = lambda lm: {i: after_sixty(lml,2**i,857) for i in np.arange(-4,3,2.)}"
   ]
  },
  {
   "cell_type": "code",
   "execution_count": null,
   "metadata": {},
   "outputs": [],
   "source": []
  },
  {
   "cell_type": "code",
   "execution_count": null,
   "metadata": {},
   "outputs": [],
   "source": []
  },
  {
   "cell_type": "code",
   "execution_count": 33,
   "metadata": {},
   "outputs": [
    {
     "data": {
      "text/plain": [
       "{-4.0: (array(['sixty eight', 'sixty five', 'sixty four', 'sixty one',\n",
       "         'sixty seven', 'sixty three', 'sixty two'], dtype='<U11'),\n",
       "  array([ 61,   9,  14, 280,  14, 473,   6])),\n",
       " -2.0: (array(['sixty', 'sixty eight', 'sixty five', 'sixty four', 'sixty nine',\n",
       "         'sixty one', 'sixty seven', 'sixty six', 'sixty thousand',\n",
       "         'sixty three', 'sixty two'], dtype='<U14'),\n",
       "  array([ 10, 115,  62,  75,   5, 176,  91,  46,   2, 201,  74])),\n",
       " 0.0: (array(['sixty', 'sixty eight', 'sixty eighty', 'sixty fifty',\n",
       "         'sixty five', 'sixty forty', 'sixty four', 'sixty fourteen',\n",
       "         'sixty hundred', 'sixty nine', 'sixty one', 'sixty seven',\n",
       "         'sixty seventeen', 'sixty seventy', 'sixty six', 'sixty sixty',\n",
       "         'sixty thirty', 'sixty thousand', 'sixty three', 'sixty twelve',\n",
       "         'sixty twenty', 'sixty two'], dtype='<U15'),\n",
       "  array([ 60,  93,   1,   1,  73,   2,  78,   1,   7,  51,  91,  92,   1,\n",
       "           2,  68,   2,   1,  29, 121,   1,   1,  81])),\n",
       " 2.0: (array(['sixty', 'sixty eight', 'sixty eighteen', 'sixty eighty',\n",
       "         'sixty eleven', 'sixty fifteen', 'sixty fifty', 'sixty five',\n",
       "         'sixty forty', 'sixty four', 'sixty fourteen', 'sixty hundred',\n",
       "         'sixty nine', 'sixty nineteen', 'sixty ninety', 'sixty one',\n",
       "         'sixty seven', 'sixty seventeen', 'sixty seventy', 'sixty six',\n",
       "         'sixty sixteen', 'sixty sixty', 'sixty ten', 'sixty thirteen',\n",
       "         'sixty thirty', 'sixty thousand', 'sixty three', 'sixty twelve',\n",
       "         'sixty twenty', 'sixty two', 'sixty xxeos', 'sixty xxfake',\n",
       "         'sixty xxfld'], dtype='<U15'),\n",
       "  array([80, 56,  9, 13, 11, 15, 17, 69, 15, 50,  5, 20, 49, 13, 10, 42, 63,\n",
       "         12, 13, 43, 12, 18, 11,  7, 12, 46, 49, 12, 11, 56,  3, 12,  3]))}"
      ]
     },
     "execution_count": 33,
     "metadata": {},
     "output_type": "execute_result"
    }
   ],
   "source": [
    "lml.save('nnon-10p'); sixteenth_to_two_temperatures_after_sixty(lml)"
   ]
  },
  {
   "cell_type": "code",
   "execution_count": 34,
   "metadata": {},
   "outputs": [],
   "source": [
    "lml = dataloader_to_lm_learner(ondl)"
   ]
  },
  {
   "cell_type": "code",
   "execution_count": 35,
   "metadata": {},
   "outputs": [
    {
     "data": {
      "text/plain": [
       "<fastai.text.learner.LMLearner at 0x7ff1c863d610>"
      ]
     },
     "execution_count": 35,
     "metadata": {},
     "output_type": "execute_result"
    }
   ],
   "source": [
    "lml.load('nnonlml')"
   ]
  },
  {
   "cell_type": "code",
   "execution_count": 36,
   "metadata": {},
   "outputs": [
    {
     "data": {
      "text/html": [],
      "text/plain": [
       "<IPython.core.display.HTML object>"
      ]
     },
     "metadata": {},
     "output_type": "display_data"
    },
    {
     "data": {
      "text/plain": [
       "SuggestedLRs(lr_min=0.02089296132326126, lr_steep=0.007585775572806597)"
      ]
     },
     "execution_count": 36,
     "metadata": {},
     "output_type": "execute_result"
    },
    {
     "data": {
      "image/png": "[encoded data removed]",
      "text/plain": [
       "<Figure size 432x288 with 1 Axes>"
      ]
     },
     "metadata": {
      "needs_background": "light"
     },
     "output_type": "display_data"
    }
   ],
   "source": [
    "lml.lr_find()"
   ]
  },
  {
   "cell_type": "code",
   "execution_count": 37,
   "metadata": {},
   "outputs": [
    {
     "data": {
      "text/html": [
       "<table border=\"1\" class=\"dataframe\">\n",
       "  <thead>\n",
       "    <tr style=\"text-align: left;\">\n",
       "      <th>epoch</th>\n",
       "      <th>train_loss</th>\n",
       "      <th>valid_loss</th>\n",
       "      <th>accuracy</th>\n",
       "      <th>perplexity</th>\n",
       "      <th>time</th>\n",
       "    </tr>\n",
       "  </thead>\n",
       "  <tbody>\n",
       "    <tr>\n",
       "      <td>0</td>\n",
       "      <td>1.629735</td>\n",
       "      <td>1.824217</td>\n",
       "      <td>0.390625</td>\n",
       "      <td>6.197938</td>\n",
       "      <td>00:00</td>\n",
       "    </tr>\n",
       "  </tbody>\n",
       "</table>"
      ],
      "text/plain": [
       "<IPython.core.display.HTML object>"
      ]
     },
     "metadata": {},
     "output_type": "display_data"
    },
    {
     "data": {
      "text/plain": [
       "{-4.0: (array(['sixty eight', 'sixty five', 'sixty one', 'sixty seven',\n",
       "         'sixty three'], dtype='<U11'),\n",
       "  array([  7,   1, 837,   3,   9])),\n",
       " -2.0: (array(['sixty eight', 'sixty five', 'sixty four', 'sixty nine',\n",
       "         'sixty one', 'sixty seven', 'sixty six', 'sixty thousand',\n",
       "         'sixty three', 'sixty two'], dtype='<U14'),\n",
       "  array([115,  66,  55,   1, 344,  75,   4,   1, 135,  61])),\n",
       " 0.0: (array(['sixty', 'sixty eight', 'sixty eighty', 'sixty fifty',\n",
       "         'sixty five', 'sixty four', 'sixty fourteen', 'sixty nine',\n",
       "         'sixty nineteen', 'sixty one', 'sixty seven', 'sixty seventy',\n",
       "         'sixty six', 'sixty thirteen', 'sixty thirty', 'sixty thousand',\n",
       "         'sixty three', 'sixty two'], dtype='<U14'),\n",
       "  array([ 22, 102,   1,   2,  85,  75,   1,  23,   1, 168,  96,   3,  40,\n",
       "           1,   2,  26, 113,  96])),\n",
       " 2.0: (array(['sixty', 'sixty eight', 'sixty eighteen', 'sixty eighty',\n",
       "         'sixty eleven', 'sixty fifteen', 'sixty fifty', 'sixty five',\n",
       "         'sixty forty', 'sixty four', 'sixty fourteen', 'sixty hundred',\n",
       "         'sixty nine', 'sixty nineteen', 'sixty ninety', 'sixty one',\n",
       "         'sixty seven', 'sixty seventeen', 'sixty seventy', 'sixty six',\n",
       "         'sixty sixteen', 'sixty sixty', 'sixty ten', 'sixty thirteen',\n",
       "         'sixty thirty', 'sixty thousand', 'sixty three', 'sixty twelve',\n",
       "         'sixty twenty', 'sixty two', 'sixty xxeos', 'sixty xxfake',\n",
       "         'sixty xxfld'], dtype='<U15'),\n",
       "  array([69, 57, 12, 10,  8, 12, 14, 54, 14, 47,  9, 14, 40, 19, 19, 46, 61,\n",
       "         18, 16, 44, 11, 18, 12, 13, 12, 44, 51, 15, 20, 59,  1, 14,  4]))}"
      ]
     },
     "execution_count": 37,
     "metadata": {},
     "output_type": "execute_result"
    }
   ],
   "source": [
    "lml.fit_one_cycle(1, -1e-2) ; lml.save('nnon-10p1n'); sixteenth_to_two_temperatures_after_sixty(lml)"
   ]
  },
  {
   "cell_type": "code",
   "execution_count": 38,
   "metadata": {},
   "outputs": [
    {
     "data": {
      "text/html": [
       "<table border=\"1\" class=\"dataframe\">\n",
       "  <thead>\n",
       "    <tr style=\"text-align: left;\">\n",
       "      <th>epoch</th>\n",
       "      <th>train_loss</th>\n",
       "      <th>valid_loss</th>\n",
       "      <th>accuracy</th>\n",
       "      <th>perplexity</th>\n",
       "      <th>time</th>\n",
       "    </tr>\n",
       "  </thead>\n",
       "  <tbody>\n",
       "    <tr>\n",
       "      <td>0</td>\n",
       "      <td>1.984942</td>\n",
       "      <td>2.285515</td>\n",
       "      <td>0.375000</td>\n",
       "      <td>9.830749</td>\n",
       "      <td>00:00</td>\n",
       "    </tr>\n",
       "  </tbody>\n",
       "</table>"
      ],
      "text/plain": [
       "<IPython.core.display.HTML object>"
      ]
     },
     "metadata": {},
     "output_type": "display_data"
    },
    {
     "data": {
      "text/plain": [
       "{-4.0: (array(['sixty one'], dtype='<U9'), array([857])),\n",
       " -2.0: (array(['sixty eight', 'sixty five', 'sixty four', 'sixty one',\n",
       "         'sixty seven', 'sixty three', 'sixty two'], dtype='<U11'),\n",
       "  array([ 81,  24,  26, 652,  31,  26,  17])),\n",
       " 0.0: (array(['sixty', 'sixty eight', 'sixty eighteen', 'sixty eighty',\n",
       "         'sixty eleven', 'sixty fifty', 'sixty five', 'sixty four',\n",
       "         'sixty nine', 'sixty one', 'sixty seven', 'sixty seventy',\n",
       "         'sixty six', 'sixty thousand', 'sixty three', 'sixty twenty',\n",
       "         'sixty two'], dtype='<U14'),\n",
       "  array([  6, 149,   1,   1,   1,   2, 111,  88,  11, 217, 111,   1,  11,\n",
       "          11,  77,   2,  57])),\n",
       " 2.0: (array(['sixty', 'sixty eight', 'sixty eighteen', 'sixty eighty',\n",
       "         'sixty eleven', 'sixty fifteen', 'sixty fifty', 'sixty five',\n",
       "         'sixty forty', 'sixty four', 'sixty fourteen', 'sixty hundred',\n",
       "         'sixty nine', 'sixty nineteen', 'sixty ninety', 'sixty one',\n",
       "         'sixty seven', 'sixty seventeen', 'sixty seventy', 'sixty six',\n",
       "         'sixty sixteen', 'sixty sixty', 'sixty ten', 'sixty thirteen',\n",
       "         'sixty thirty', 'sixty thousand', 'sixty three', 'sixty twelve',\n",
       "         'sixty twenty', 'sixty two', 'sixty xxeos', 'sixty xxfake',\n",
       "         'sixty xxfld'], dtype='<U15'),\n",
       "  array([59, 56, 11, 19, 12, 14, 19, 47, 23, 53, 12, 15, 35,  6, 10, 79, 46,\n",
       "         12, 12, 37,  9, 18, 12, 13, 18, 31, 60, 17, 17, 65,  5,  9,  6]))}"
      ]
     },
     "execution_count": 38,
     "metadata": {},
     "output_type": "execute_result"
    }
   ],
   "source": [
    "lml.fit_one_cycle(1, -1e-2) ; lml.save('nnon-10p2n'); sixteenth_to_two_temperatures_after_sixty(lml)"
   ]
  },
  {
   "cell_type": "code",
   "execution_count": 39,
   "metadata": {},
   "outputs": [
    {
     "data": {
      "text/html": [
       "<table border=\"1\" class=\"dataframe\">\n",
       "  <thead>\n",
       "    <tr style=\"text-align: left;\">\n",
       "      <th>epoch</th>\n",
       "      <th>train_loss</th>\n",
       "      <th>valid_loss</th>\n",
       "      <th>accuracy</th>\n",
       "      <th>perplexity</th>\n",
       "      <th>time</th>\n",
       "    </tr>\n",
       "  </thead>\n",
       "  <tbody>\n",
       "    <tr>\n",
       "      <td>0</td>\n",
       "      <td>2.732881</td>\n",
       "      <td>3.329898</td>\n",
       "      <td>0.281250</td>\n",
       "      <td>27.935482</td>\n",
       "      <td>00:00</td>\n",
       "    </tr>\n",
       "  </tbody>\n",
       "</table>"
      ],
      "text/plain": [
       "<IPython.core.display.HTML object>"
      ]
     },
     "metadata": {},
     "output_type": "display_data"
    },
    {
     "data": {
      "text/plain": [
       "{-4.0: (array(['sixty one'], dtype='<U9'), array([857])),\n",
       " -2.0: (array(['sixty eight', 'sixty five', 'sixty four', 'sixty one',\n",
       "         'sixty seven'], dtype='<U11'),\n",
       "  array([  5,   2,   3, 844,   3])),\n",
       " 0.0: (array(['sixty eight', 'sixty eighty', 'sixty five', 'sixty four',\n",
       "         'sixty nineteen', 'sixty one', 'sixty seven', 'sixty six',\n",
       "         'sixty thirty', 'sixty thousand', 'sixty three', 'sixty two'],\n",
       "        dtype='<U14'),\n",
       "  array([108,   2,  76,  81,   1, 413,  73,   1,   1,   3,  51,  47])),\n",
       " 2.0: (array(['sixty', 'sixty eight', 'sixty eighteen', 'sixty eighty',\n",
       "         'sixty eleven', 'sixty fifteen', 'sixty fifty', 'sixty five',\n",
       "         'sixty forty', 'sixty four', 'sixty fourteen', 'sixty hundred',\n",
       "         'sixty nine', 'sixty nineteen', 'sixty ninety', 'sixty one',\n",
       "         'sixty seven', 'sixty seventeen', 'sixty seventy', 'sixty six',\n",
       "         'sixty sixteen', 'sixty sixty', 'sixty ten', 'sixty thirteen',\n",
       "         'sixty thirty', 'sixty thousand', 'sixty three', 'sixty twelve',\n",
       "         'sixty twenty', 'sixty two', 'sixty xxeos', 'sixty xxfake',\n",
       "         'sixty xxfld'], dtype='<U15'),\n",
       "  array([ 51,  90,   9,  18,  16,   7,  22,  93,  12,  66,   6,   6,  10,\n",
       "           7,   2, 108,  72,   9,  11,  32,   7,  15,   5,   6,   8,  20,\n",
       "          56,   9,  18,  59,   3,   3,   1]))}"
      ]
     },
     "execution_count": 39,
     "metadata": {},
     "output_type": "execute_result"
    }
   ],
   "source": [
    "lml.fit_one_cycle(1, -1e-2) ; lml.save('nnon-10p3n'); sixteenth_to_two_temperatures_after_sixty(lml)"
   ]
  },
  {
   "cell_type": "code",
   "execution_count": 40,
   "metadata": {},
   "outputs": [
    {
     "data": {
      "text/html": [
       "<table border=\"1\" class=\"dataframe\">\n",
       "  <thead>\n",
       "    <tr style=\"text-align: left;\">\n",
       "      <th>epoch</th>\n",
       "      <th>train_loss</th>\n",
       "      <th>valid_loss</th>\n",
       "      <th>accuracy</th>\n",
       "      <th>perplexity</th>\n",
       "      <th>time</th>\n",
       "    </tr>\n",
       "  </thead>\n",
       "  <tbody>\n",
       "    <tr>\n",
       "      <td>0</td>\n",
       "      <td>4.564430</td>\n",
       "      <td>5.702098</td>\n",
       "      <td>0.140625</td>\n",
       "      <td>299.495209</td>\n",
       "      <td>00:00</td>\n",
       "    </tr>\n",
       "  </tbody>\n",
       "</table>"
      ],
      "text/plain": [
       "<IPython.core.display.HTML object>"
      ]
     },
     "metadata": {},
     "output_type": "display_data"
    },
    {
     "data": {
      "text/plain": [
       "{-4.0: (array(['sixty one'], dtype='<U9'), array([857])),\n",
       " -2.0: (array(['sixty one'], dtype='<U9'), array([857])),\n",
       " 0.0: (array(['sixty eight', 'sixty five', 'sixty four', 'sixty one',\n",
       "         'sixty seven', 'sixty two'], dtype='<U11'),\n",
       "  array([ 16,  12,  26, 794,   8,   1])),\n",
       " 2.0: (array(['sixty', 'sixty eight', 'sixty eighteen', 'sixty eighty',\n",
       "         'sixty eleven', 'sixty fifteen', 'sixty fifty', 'sixty five',\n",
       "         'sixty forty', 'sixty four', 'sixty fourteen', 'sixty hundred',\n",
       "         'sixty nine', 'sixty nineteen', 'sixty ninety', 'sixty one',\n",
       "         'sixty seven', 'sixty seventeen', 'sixty seventy', 'sixty six',\n",
       "         'sixty sixteen', 'sixty sixty', 'sixty ten', 'sixty thirteen',\n",
       "         'sixty thirty', 'sixty thousand', 'sixty three', 'sixty twelve',\n",
       "         'sixty twenty', 'sixty two', 'sixty xxeos', 'sixty xxfake'],\n",
       "        dtype='<U15'),\n",
       "  array([ 25,  96,   7,   8,   8,   6,   4,  78,   8, 105,   4,   1,   3,\n",
       "           4,   1, 238,  53,   3,   8,  17,   8,   8,   5,   4,   1,   6,\n",
       "          58,   2,   6,  78,   1,   3]))}"
      ]
     },
     "execution_count": 40,
     "metadata": {},
     "output_type": "execute_result"
    }
   ],
   "source": [
    "lml.fit_one_cycle(1, -1e-2) ; lml.save('nnon-10p4n'); sixteenth_to_two_temperatures_after_sixty(lml)"
   ]
  },
  {
   "cell_type": "code",
   "execution_count": 41,
   "metadata": {},
   "outputs": [
    {
     "data": {
      "text/html": [
       "<table border=\"1\" class=\"dataframe\">\n",
       "  <thead>\n",
       "    <tr style=\"text-align: left;\">\n",
       "      <th>epoch</th>\n",
       "      <th>train_loss</th>\n",
       "      <th>valid_loss</th>\n",
       "      <th>accuracy</th>\n",
       "      <th>perplexity</th>\n",
       "      <th>time</th>\n",
       "    </tr>\n",
       "  </thead>\n",
       "  <tbody>\n",
       "    <tr>\n",
       "      <td>0</td>\n",
       "      <td>8.542905</td>\n",
       "      <td>10.652514</td>\n",
       "      <td>0.041667</td>\n",
       "      <td>42298.781250</td>\n",
       "      <td>00:00</td>\n",
       "    </tr>\n",
       "  </tbody>\n",
       "</table>"
      ],
      "text/plain": [
       "<IPython.core.display.HTML object>"
      ]
     },
     "metadata": {},
     "output_type": "display_data"
    },
    {
     "data": {
      "text/plain": [
       "{-4.0: (array(['sixty one'], dtype='<U9'), array([857])),\n",
       " -2.0: (array(['sixty one'], dtype='<U9'), array([857])),\n",
       " 0.0: (array(['sixty one'], dtype='<U9'), array([857])),\n",
       " 2.0: (array(['sixty', 'sixty eight', 'sixty eighteen', 'sixty eighty',\n",
       "         'sixty eleven', 'sixty fifteen', 'sixty fifty', 'sixty five',\n",
       "         'sixty forty', 'sixty four', 'sixty nineteen', 'sixty one',\n",
       "         'sixty seven', 'sixty seventy', 'sixty six', 'sixty ten',\n",
       "         'sixty thirteen', 'sixty thousand', 'sixty three', 'sixty twelve',\n",
       "         'sixty two', 'sixty xxeos', 'sixty xxfake'], dtype='<U14'),\n",
       "  array([  3,  69,   1,   5,   3,   2,   4,  44,   3,  77,   1, 539,  39,\n",
       "           1,  10,   1,   1,   5,  22,   2,  23,   1,   1]))}"
      ]
     },
     "execution_count": 41,
     "metadata": {},
     "output_type": "execute_result"
    }
   ],
   "source": [
    "lml.fit_one_cycle(1, -1e-2) ; lml.save('nnon-10p5n'); sixteenth_to_two_temperatures_after_sixty(lml)"
   ]
  },
  {
   "cell_type": "code",
   "execution_count": 42,
   "metadata": {},
   "outputs": [
    {
     "data": {
      "text/plain": [
       "Path('models/nnonlml.pth')"
      ]
     },
     "execution_count": 42,
     "metadata": {},
     "output_type": "execute_result"
    }
   ],
   "source": [
    "lml.save('nnonlml')"
   ]
  },
  {
   "cell_type": "code",
   "execution_count": null,
   "metadata": {},
   "outputs": [],
   "source": []
  },
  {
   "cell_type": "code",
   "execution_count": 43,
   "metadata": {},
   "outputs": [
    {
     "data": {
      "text/plain": [
       "<fastai.text.learner.LMLearner at 0x7ff1c850c590>"
      ]
     },
     "execution_count": 43,
     "metadata": {},
     "output_type": "execute_result"
    }
   ],
   "source": [
    "lml = dataloader_to_lm_learner(nndl) ; lml.load('nnonlml')"
   ]
  },
  {
   "cell_type": "code",
   "execution_count": 44,
   "metadata": {},
   "outputs": [
    {
     "data": {
      "text/html": [
       "<table border=\"1\" class=\"dataframe\">\n",
       "  <thead>\n",
       "    <tr style=\"text-align: left;\">\n",
       "      <th>epoch</th>\n",
       "      <th>train_loss</th>\n",
       "      <th>valid_loss</th>\n",
       "      <th>accuracy</th>\n",
       "      <th>perplexity</th>\n",
       "      <th>time</th>\n",
       "    </tr>\n",
       "  </thead>\n",
       "  <tbody>\n",
       "    <tr>\n",
       "      <td>0</td>\n",
       "      <td>1.693148</td>\n",
       "      <td>1.485179</td>\n",
       "      <td>0.471777</td>\n",
       "      <td>4.415754</td>\n",
       "      <td>00:20</td>\n",
       "    </tr>\n",
       "  </tbody>\n",
       "</table>"
      ],
      "text/plain": [
       "<IPython.core.display.HTML object>"
      ]
     },
     "metadata": {},
     "output_type": "display_data"
    },
    {
     "data": {
      "text/plain": [
       "{-4.0: (array(['sixty one', 'sixty three'], dtype='<U11'), array([856,   1])),\n",
       " -2.0: (array(['sixty eight', 'sixty five', 'sixty four', 'sixty one',\n",
       "         'sixty seven', 'sixty six', 'sixty three', 'sixty two'],\n",
       "        dtype='<U11'),\n",
       "  array([ 65,  24,  51, 532,  42,   6, 128,   9])),\n",
       " 0.0: (array(['sixty', 'sixty eight', 'sixty five', 'sixty four', 'sixty one',\n",
       "         'sixty seven', 'sixty six', 'sixty sixty', 'sixty ten',\n",
       "         'sixty thousand', 'sixty three', 'sixty two'], dtype='<U14'),\n",
       "  array([  3, 108,  88, 101, 209,  93,  64,   1,   1,   7, 120,  62])),\n",
       " 2.0: (array(['sixty', 'sixty eight', 'sixty eighteen', 'sixty eighty',\n",
       "         'sixty eleven', 'sixty fifteen', 'sixty fifty', 'sixty five',\n",
       "         'sixty forty', 'sixty four', 'sixty fourteen', 'sixty hundred',\n",
       "         'sixty nine', 'sixty nineteen', 'sixty ninety', 'sixty one',\n",
       "         'sixty seven', 'sixty seventeen', 'sixty seventy', 'sixty six',\n",
       "         'sixty sixteen', 'sixty sixty', 'sixty ten', 'sixty thirteen',\n",
       "         'sixty thirty', 'sixty thousand', 'sixty three', 'sixty twelve',\n",
       "         'sixty twenty', 'sixty two', 'sixty xxeos', 'sixty xxfake',\n",
       "         'sixty xxfld'], dtype='<U15'),\n",
       "  array([53, 62, 10, 20, 18, 13, 16, 53,  6, 62, 11, 18, 13, 13, 15, 67, 58,\n",
       "         13, 11, 53, 14, 25, 10, 13, 17, 28, 67,  6, 10, 70,  3,  7,  2]))}"
      ]
     },
     "execution_count": 44,
     "metadata": {},
     "output_type": "execute_result"
    }
   ],
   "source": [
    "lml.fit_one_cycle(1, 1e-2) ; lml.save('nnon-10p5n1p'); sixteenth_to_two_temperatures_after_sixty(lml)"
   ]
  },
  {
   "cell_type": "code",
   "execution_count": 45,
   "metadata": {},
   "outputs": [
    {
     "data": {
      "text/html": [
       "<table border=\"1\" class=\"dataframe\">\n",
       "  <thead>\n",
       "    <tr style=\"text-align: left;\">\n",
       "      <th>epoch</th>\n",
       "      <th>train_loss</th>\n",
       "      <th>valid_loss</th>\n",
       "      <th>accuracy</th>\n",
       "      <th>perplexity</th>\n",
       "      <th>time</th>\n",
       "    </tr>\n",
       "  </thead>\n",
       "  <tbody>\n",
       "    <tr>\n",
       "      <td>0</td>\n",
       "      <td>1.530133</td>\n",
       "      <td>1.473567</td>\n",
       "      <td>0.473568</td>\n",
       "      <td>4.364776</td>\n",
       "      <td>00:20</td>\n",
       "    </tr>\n",
       "  </tbody>\n",
       "</table>"
      ],
      "text/plain": [
       "<IPython.core.display.HTML object>"
      ]
     },
     "metadata": {},
     "output_type": "display_data"
    },
    {
     "data": {
      "text/plain": [
       "{-4.0: (array(['sixty one'], dtype='<U9'), array([857])),\n",
       " -2.0: (array(['sixty eight', 'sixty five', 'sixty four', 'sixty one',\n",
       "         'sixty seven', 'sixty six', 'sixty three', 'sixty two'],\n",
       "        dtype='<U11'),\n",
       "  array([ 90,  30,  23, 559,   8,   5, 132,  10])),\n",
       " 0.0: (array(['sixty', 'sixty eight', 'sixty eighty', 'sixty fifty',\n",
       "         'sixty five', 'sixty four', 'sixty fourteen', 'sixty nine',\n",
       "         'sixty ninety', 'sixty one', 'sixty seven', 'sixty six',\n",
       "         'sixty sixty', 'sixty thirteen', 'sixty thousand', 'sixty three',\n",
       "         'sixty two'], dtype='<U14'),\n",
       "  array([ 39, 107,   3,   2,  91,  72,   1,   4,   1, 177,  66,  72,   2,\n",
       "           1,  17, 133,  69])),\n",
       " 2.0: (array(['sixty', 'sixty eight', 'sixty eighteen', 'sixty eighty',\n",
       "         'sixty eleven', 'sixty fifteen', 'sixty fifty', 'sixty five',\n",
       "         'sixty forty', 'sixty four', 'sixty fourteen', 'sixty hundred',\n",
       "         'sixty nine', 'sixty nineteen', 'sixty ninety', 'sixty one',\n",
       "         'sixty seven', 'sixty seventeen', 'sixty seventy', 'sixty six',\n",
       "         'sixty sixteen', 'sixty sixty', 'sixty ten', 'sixty thirteen',\n",
       "         'sixty thirty', 'sixty thousand', 'sixty three', 'sixty twelve',\n",
       "         'sixty twenty', 'sixty two', 'sixty xxeos', 'sixty xxfake',\n",
       "         'sixty xxfld'], dtype='<U15'),\n",
       "  array([58, 59, 17, 28,  9,  6, 14, 59, 12, 53, 11,  8, 29, 10, 15, 76, 57,\n",
       "         12, 17, 57,  1, 28, 10, 11, 13, 33, 74,  8, 13, 49,  1,  8,  1]))}"
      ]
     },
     "execution_count": 45,
     "metadata": {},
     "output_type": "execute_result"
    }
   ],
   "source": [
    "lml.fit_one_cycle(1, 1e-2) ; lml.save('nnon-10p5n2p'); sixteenth_to_two_temperatures_after_sixty(lml)"
   ]
  },
  {
   "cell_type": "code",
   "execution_count": 46,
   "metadata": {},
   "outputs": [
    {
     "data": {
      "text/html": [
       "<table border=\"1\" class=\"dataframe\">\n",
       "  <thead>\n",
       "    <tr style=\"text-align: left;\">\n",
       "      <th>epoch</th>\n",
       "      <th>train_loss</th>\n",
       "      <th>valid_loss</th>\n",
       "      <th>accuracy</th>\n",
       "      <th>perplexity</th>\n",
       "      <th>time</th>\n",
       "    </tr>\n",
       "  </thead>\n",
       "  <tbody>\n",
       "    <tr>\n",
       "      <td>0</td>\n",
       "      <td>1.520468</td>\n",
       "      <td>1.470293</td>\n",
       "      <td>0.469238</td>\n",
       "      <td>4.350509</td>\n",
       "      <td>00:20</td>\n",
       "    </tr>\n",
       "  </tbody>\n",
       "</table>"
      ],
      "text/plain": [
       "<IPython.core.display.HTML object>"
      ]
     },
     "metadata": {},
     "output_type": "display_data"
    },
    {
     "data": {
      "text/plain": [
       "{-4.0: (array(['sixty one', 'sixty seven', 'sixty six', 'sixty three'],\n",
       "        dtype='<U11'),\n",
       "  array([786,   1,   1,  69])),\n",
       " -2.0: (array(['sixty', 'sixty eight', 'sixty five', 'sixty four', 'sixty one',\n",
       "         'sixty seven', 'sixty six', 'sixty three', 'sixty two'],\n",
       "        dtype='<U11'),\n",
       "  array([ 21,  80,  29,  37, 370,  36,  35, 211,  38])),\n",
       " 0.0: (array(['sixty', 'sixty eight', 'sixty eighty', 'sixty eleven',\n",
       "         'sixty five', 'sixty forty', 'sixty four', 'sixty nine',\n",
       "         'sixty nineteen', 'sixty one', 'sixty seven', 'sixty six',\n",
       "         'sixty sixty', 'sixty thirty', 'sixty thousand', 'sixty three',\n",
       "         'sixty two'], dtype='<U14'),\n",
       "  array([ 77,  92,   1,   1,  82,   2,  75,   5,   1, 135,  93,  81,   1,\n",
       "           1,  19, 116,  75])),\n",
       " 2.0: (array(['sixty', 'sixty eight', 'sixty eighteen', 'sixty eighty',\n",
       "         'sixty eleven', 'sixty fifteen', 'sixty fifty', 'sixty five',\n",
       "         'sixty forty', 'sixty four', 'sixty fourteen', 'sixty hundred',\n",
       "         'sixty nine', 'sixty nineteen', 'sixty ninety', 'sixty one',\n",
       "         'sixty seven', 'sixty seventeen', 'sixty seventy', 'sixty six',\n",
       "         'sixty sixteen', 'sixty sixty', 'sixty ten', 'sixty thirteen',\n",
       "         'sixty thirty', 'sixty thousand', 'sixty three', 'sixty twelve',\n",
       "         'sixty twenty', 'sixty two', 'sixty xxeos', 'sixty xxfake',\n",
       "         'sixty xxfld'], dtype='<U15'),\n",
       "  array([72, 55, 15, 14, 12, 11, 24, 45, 10, 53, 10, 18, 21, 17, 21, 67, 51,\n",
       "         14, 19, 64,  9, 18,  8,  8, 18, 33, 61, 10, 18, 50,  2,  6,  3]))}"
      ]
     },
     "execution_count": 46,
     "metadata": {},
     "output_type": "execute_result"
    }
   ],
   "source": [
    "lml.fit_one_cycle(1, 1e-2) ; lml.save('nnon-10p5n3p'); sixteenth_to_two_temperatures_after_sixty(lml)"
   ]
  },
  {
   "cell_type": "code",
   "execution_count": 47,
   "metadata": {},
   "outputs": [
    {
     "data": {
      "text/html": [
       "<table border=\"1\" class=\"dataframe\">\n",
       "  <thead>\n",
       "    <tr style=\"text-align: left;\">\n",
       "      <th>epoch</th>\n",
       "      <th>train_loss</th>\n",
       "      <th>valid_loss</th>\n",
       "      <th>accuracy</th>\n",
       "      <th>perplexity</th>\n",
       "      <th>time</th>\n",
       "    </tr>\n",
       "  </thead>\n",
       "  <tbody>\n",
       "    <tr>\n",
       "      <td>0</td>\n",
       "      <td>1.524052</td>\n",
       "      <td>1.470482</td>\n",
       "      <td>0.471680</td>\n",
       "      <td>4.351333</td>\n",
       "      <td>00:21</td>\n",
       "    </tr>\n",
       "  </tbody>\n",
       "</table>"
      ],
      "text/plain": [
       "<IPython.core.display.HTML object>"
      ]
     },
     "metadata": {},
     "output_type": "display_data"
    },
    {
     "data": {
      "text/plain": [
       "{-4.0: (array(['sixty', 'sixty four', 'sixty one', 'sixty three', 'sixty two'],\n",
       "        dtype='<U11'),\n",
       "  array([ 11,   5, 831,   9,   1])),\n",
       " -2.0: (array(['sixty', 'sixty eight', 'sixty five', 'sixty four', 'sixty one',\n",
       "         'sixty seven', 'sixty six', 'sixty three', 'sixty two'],\n",
       "        dtype='<U11'),\n",
       "  array([127,  50,  25,  91, 302,  36,  45, 124,  57])),\n",
       " 0.0: (array(['sixty', 'sixty eight', 'sixty five', 'sixty four',\n",
       "         'sixty hundred', 'sixty nine', 'sixty one', 'sixty seven',\n",
       "         'sixty seventy', 'sixty six', 'sixty thirty', 'sixty thousand',\n",
       "         'sixty three', 'sixty two'], dtype='<U14'),\n",
       "  array([107,  79,  70,  90,   1,  11, 128,  77,   2,  78,   1,  23, 111,\n",
       "          79])),\n",
       " 2.0: (array(['sixty', 'sixty eight', 'sixty eighteen', 'sixty eighty',\n",
       "         'sixty eleven', 'sixty fifteen', 'sixty fifty', 'sixty five',\n",
       "         'sixty forty', 'sixty four', 'sixty fourteen', 'sixty hundred',\n",
       "         'sixty nine', 'sixty nineteen', 'sixty ninety', 'sixty one',\n",
       "         'sixty seven', 'sixty seventeen', 'sixty seventy', 'sixty six',\n",
       "         'sixty sixteen', 'sixty sixty', 'sixty ten', 'sixty thirteen',\n",
       "         'sixty thirty', 'sixty thousand', 'sixty three', 'sixty twelve',\n",
       "         'sixty twenty', 'sixty two', 'sixty xxeos', 'sixty xxfake',\n",
       "         'sixty xxfld'], dtype='<U15'),\n",
       "  array([56, 51, 15, 12,  8, 15, 20, 57, 11, 55,  8, 19, 40, 14, 14, 63, 52,\n",
       "          6, 12, 50, 10, 24,  8,  8, 21, 41, 57, 23, 19, 57,  2,  7,  2]))}"
      ]
     },
     "execution_count": 47,
     "metadata": {},
     "output_type": "execute_result"
    }
   ],
   "source": [
    "lml.fit_one_cycle(1, 1e-2) ; lml.save('nnon-10p5n4p'); sixteenth_to_two_temperatures_after_sixty(lml)"
   ]
  },
  {
   "cell_type": "code",
   "execution_count": 48,
   "metadata": {},
   "outputs": [
    {
     "data": {
      "text/html": [
       "<table border=\"1\" class=\"dataframe\">\n",
       "  <thead>\n",
       "    <tr style=\"text-align: left;\">\n",
       "      <th>epoch</th>\n",
       "      <th>train_loss</th>\n",
       "      <th>valid_loss</th>\n",
       "      <th>accuracy</th>\n",
       "      <th>perplexity</th>\n",
       "      <th>time</th>\n",
       "    </tr>\n",
       "  </thead>\n",
       "  <tbody>\n",
       "    <tr>\n",
       "      <td>0</td>\n",
       "      <td>1.527360</td>\n",
       "      <td>1.469217</td>\n",
       "      <td>0.471322</td>\n",
       "      <td>4.345831</td>\n",
       "      <td>00:20</td>\n",
       "    </tr>\n",
       "  </tbody>\n",
       "</table>"
      ],
      "text/plain": [
       "<IPython.core.display.HTML object>"
      ]
     },
     "metadata": {},
     "output_type": "display_data"
    },
    {
     "data": {
      "text/plain": [
       "{-4.0: (array(['sixty', 'sixty eight', 'sixty one', 'sixty three', 'sixty two'],\n",
       "        dtype='<U11'),\n",
       "  array([133,  11, 710,   1,   2])),\n",
       " -2.0: (array(['sixty', 'sixty eight', 'sixty five', 'sixty four', 'sixty one',\n",
       "         'sixty seven', 'sixty six', 'sixty three', 'sixty two'],\n",
       "        dtype='<U11'),\n",
       "  array([212, 102,  22,  31, 297,  32,  18,  80,  63])),\n",
       " 0.0: (array(['sixty', 'sixty eight', 'sixty fifty', 'sixty five', 'sixty forty',\n",
       "         'sixty four', 'sixty hundred', 'sixty nine', 'sixty one',\n",
       "         'sixty seven', 'sixty seventy', 'sixty six', 'sixty thirty',\n",
       "         'sixty thousand', 'sixty three', 'sixty two'], dtype='<U14'),\n",
       "  array([120,  97,   1,  72,   1,  64,   2,  13, 134,  65,   1,  77,   1,\n",
       "          22,  97,  90])),\n",
       " 2.0: (array(['sixty', 'sixty eight', 'sixty eighteen', 'sixty eighty',\n",
       "         'sixty eleven', 'sixty fifteen', 'sixty fifty', 'sixty five',\n",
       "         'sixty forty', 'sixty four', 'sixty fourteen', 'sixty hundred',\n",
       "         'sixty nine', 'sixty nineteen', 'sixty ninety', 'sixty one',\n",
       "         'sixty seven', 'sixty seventeen', 'sixty seventy', 'sixty six',\n",
       "         'sixty sixteen', 'sixty sixty', 'sixty ten', 'sixty thirteen',\n",
       "         'sixty thirty', 'sixty thousand', 'sixty three', 'sixty twelve',\n",
       "         'sixty twenty', 'sixty two', 'sixty xxeos', 'sixty xxfake',\n",
       "         'sixty xxfld'], dtype='<U15'),\n",
       "  array([76, 61, 12, 23, 11, 12, 18, 53, 10, 45,  8, 16, 40,  9, 19, 60, 63,\n",
       "          9, 14, 48, 10, 10, 18,  8, 14, 39, 56, 12, 12, 61,  3,  3,  4]))}"
      ]
     },
     "execution_count": 48,
     "metadata": {},
     "output_type": "execute_result"
    }
   ],
   "source": [
    "lml.fit_one_cycle(1, 1e-2) ; lml.save('nnon-10p5n5p'); sixteenth_to_two_temperatures_after_sixty(lml)"
   ]
  },
  {
   "cell_type": "code",
   "execution_count": 49,
   "metadata": {},
   "outputs": [
    {
     "data": {
      "text/plain": [
       "Path('models/nnonlml.pth')"
      ]
     },
     "execution_count": 49,
     "metadata": {},
     "output_type": "execute_result"
    }
   ],
   "source": [
    "lml.save('nnonlml')"
   ]
  },
  {
   "cell_type": "code",
   "execution_count": null,
   "metadata": {},
   "outputs": [],
   "source": []
  },
  {
   "cell_type": "code",
   "execution_count": 50,
   "metadata": {},
   "outputs": [
    {
     "data": {
      "text/plain": [
       "<fastai.text.learner.LMLearner at 0x7ff1c84a3f10>"
      ]
     },
     "execution_count": 50,
     "metadata": {},
     "output_type": "execute_result"
    }
   ],
   "source": [
    "lml = dataloader_to_lm_learner(ondl) ; lml.load('nnonlml')"
   ]
  },
  {
   "cell_type": "code",
   "execution_count": 51,
   "metadata": {},
   "outputs": [
    {
     "data": {
      "text/html": [
       "<table border=\"1\" class=\"dataframe\">\n",
       "  <thead>\n",
       "    <tr style=\"text-align: left;\">\n",
       "      <th>epoch</th>\n",
       "      <th>train_loss</th>\n",
       "      <th>valid_loss</th>\n",
       "      <th>accuracy</th>\n",
       "      <th>perplexity</th>\n",
       "      <th>time</th>\n",
       "    </tr>\n",
       "  </thead>\n",
       "  <tbody>\n",
       "    <tr>\n",
       "      <td>0</td>\n",
       "      <td>1.699759</td>\n",
       "      <td>1.749861</td>\n",
       "      <td>0.385417</td>\n",
       "      <td>5.753801</td>\n",
       "      <td>00:00</td>\n",
       "    </tr>\n",
       "  </tbody>\n",
       "</table>"
      ],
      "text/plain": [
       "<IPython.core.display.HTML object>"
      ]
     },
     "metadata": {},
     "output_type": "display_data"
    },
    {
     "data": {
      "text/plain": [
       "{-4.0: (array(['sixty', 'sixty eight', 'sixty one', 'sixty three', 'sixty two'],\n",
       "        dtype='<U11'),\n",
       "  array([153,   5, 696,   2,   1])),\n",
       " -2.0: (array(['sixty', 'sixty eight', 'sixty five', 'sixty four', 'sixty one',\n",
       "         'sixty seven', 'sixty six', 'sixty three', 'sixty two'],\n",
       "        dtype='<U11'),\n",
       "  array([187,  95,  34,  29, 320,  33,  24,  70,  65])),\n",
       " 0.0: (array(['sixty', 'sixty eight', 'sixty eighteen', 'sixty eighty',\n",
       "         'sixty five', 'sixty four', 'sixty hundred', 'sixty nine',\n",
       "         'sixty one', 'sixty seven', 'sixty six', 'sixty sixteen',\n",
       "         'sixty sixty', 'sixty thirty', 'sixty thousand', 'sixty three',\n",
       "         'sixty twenty', 'sixty two'], dtype='<U14'),\n",
       "  array([126,  94,   1,   1,  62,  82,   2,   7, 124,  83,  69,   1,   2,\n",
       "           1,  13, 101,   1,  87])),\n",
       " 2.0: (array(['sixty', 'sixty eight', 'sixty eighteen', 'sixty eighty',\n",
       "         'sixty eleven', 'sixty fifteen', 'sixty fifty', 'sixty five',\n",
       "         'sixty forty', 'sixty four', 'sixty fourteen', 'sixty hundred',\n",
       "         'sixty nine', 'sixty nineteen', 'sixty ninety', 'sixty one',\n",
       "         'sixty seven', 'sixty seventeen', 'sixty seventy', 'sixty six',\n",
       "         'sixty sixteen', 'sixty sixty', 'sixty ten', 'sixty thirteen',\n",
       "         'sixty thirty', 'sixty thousand', 'sixty three', 'sixty twelve',\n",
       "         'sixty twenty', 'sixty two', 'sixty xxeos', 'sixty xxfake',\n",
       "         'sixty xxfld'], dtype='<U15'),\n",
       "  array([85, 50,  9, 21, 10, 11, 22, 53, 17, 54,  7, 15, 30, 14, 11, 58, 53,\n",
       "         16, 25, 48, 14, 12, 10,  8, 19, 38, 59, 10, 16, 54,  3,  3,  2]))}"
      ]
     },
     "execution_count": 51,
     "metadata": {},
     "output_type": "execute_result"
    }
   ],
   "source": [
    "lml.fit_one_cycle(1, -1e-2) ; lml.save('nnon-10p5n5p1n'); sixteenth_to_two_temperatures_after_sixty(lml)"
   ]
  },
  {
   "cell_type": "code",
   "execution_count": 52,
   "metadata": {},
   "outputs": [
    {
     "data": {
      "text/html": [
       "<table border=\"1\" class=\"dataframe\">\n",
       "  <thead>\n",
       "    <tr style=\"text-align: left;\">\n",
       "      <th>epoch</th>\n",
       "      <th>train_loss</th>\n",
       "      <th>valid_loss</th>\n",
       "      <th>accuracy</th>\n",
       "      <th>perplexity</th>\n",
       "      <th>time</th>\n",
       "    </tr>\n",
       "  </thead>\n",
       "  <tbody>\n",
       "    <tr>\n",
       "      <td>0</td>\n",
       "      <td>2.070140</td>\n",
       "      <td>2.699489</td>\n",
       "      <td>0.296875</td>\n",
       "      <td>14.872128</td>\n",
       "      <td>00:00</td>\n",
       "    </tr>\n",
       "  </tbody>\n",
       "</table>"
      ],
      "text/plain": [
       "<IPython.core.display.HTML object>"
      ]
     },
     "metadata": {},
     "output_type": "display_data"
    },
    {
     "data": {
      "text/plain": [
       "{-4.0: (array(['sixty one'], dtype='<U9'), array([857])),\n",
       " -2.0: (array(['sixty', 'sixty eight', 'sixty five', 'sixty four', 'sixty one',\n",
       "         'sixty seven', 'sixty three', 'sixty two'], dtype='<U11'),\n",
       "  array([  4,   9,   7,  41, 751,   7,  19,  19])),\n",
       " 0.0: (array(['sixty', 'sixty eight', 'sixty eighty', 'sixty fifty',\n",
       "         'sixty five', 'sixty four', 'sixty nine', 'sixty one',\n",
       "         'sixty seven', 'sixty six', 'sixty thousand', 'sixty three',\n",
       "         'sixty two'], dtype='<U14'),\n",
       "  array([ 56,  66,   1,   1,  79, 127,   1, 228,  63,  11,   3, 116, 105])),\n",
       " 2.0: (array(['sixty', 'sixty eight', 'sixty eighteen', 'sixty eighty',\n",
       "         'sixty eleven', 'sixty fifteen', 'sixty fifty', 'sixty five',\n",
       "         'sixty forty', 'sixty four', 'sixty fourteen', 'sixty hundred',\n",
       "         'sixty nine', 'sixty nineteen', 'sixty ninety', 'sixty one',\n",
       "         'sixty seven', 'sixty seventeen', 'sixty seventy', 'sixty six',\n",
       "         'sixty sixteen', 'sixty sixty', 'sixty ten', 'sixty thirteen',\n",
       "         'sixty thirty', 'sixty thousand', 'sixty three', 'sixty twelve',\n",
       "         'sixty twenty', 'sixty two', 'sixty xxeos', 'sixty xxfake',\n",
       "         'sixty xxfld'], dtype='<U15'),\n",
       "  array([79, 64, 11, 13, 10,  4, 25, 49, 15, 67, 12,  9, 12, 10, 14, 83, 61,\n",
       "          8, 13, 38,  9, 17, 14, 11,  9, 26, 66, 11, 14, 75,  3,  4,  1]))}"
      ]
     },
     "execution_count": 52,
     "metadata": {},
     "output_type": "execute_result"
    }
   ],
   "source": [
    "lml.fit_one_cycle(1, -1e-2) ; lml.save('nnon-10p5n5p2n'); sixteenth_to_two_temperatures_after_sixty(lml)"
   ]
  },
  {
   "cell_type": "code",
   "execution_count": 53,
   "metadata": {},
   "outputs": [
    {
     "data": {
      "text/html": [
       "<table border=\"1\" class=\"dataframe\">\n",
       "  <thead>\n",
       "    <tr style=\"text-align: left;\">\n",
       "      <th>epoch</th>\n",
       "      <th>train_loss</th>\n",
       "      <th>valid_loss</th>\n",
       "      <th>accuracy</th>\n",
       "      <th>perplexity</th>\n",
       "      <th>time</th>\n",
       "    </tr>\n",
       "  </thead>\n",
       "  <tbody>\n",
       "    <tr>\n",
       "      <td>0</td>\n",
       "      <td>4.120744</td>\n",
       "      <td>5.308406</td>\n",
       "      <td>0.223958</td>\n",
       "      <td>202.028015</td>\n",
       "      <td>00:00</td>\n",
       "    </tr>\n",
       "  </tbody>\n",
       "</table>"
      ],
      "text/plain": [
       "<IPython.core.display.HTML object>"
      ]
     },
     "metadata": {},
     "output_type": "display_data"
    },
    {
     "data": {
      "text/plain": [
       "{-4.0: (array(['sixty four', 'sixty one'], dtype='<U10'), array([459, 398])),\n",
       " -2.0: (array(['sixty five', 'sixty four', 'sixty one', 'sixty three',\n",
       "         'sixty two'], dtype='<U11'),\n",
       "  array([  3, 444, 397,   6,   7])),\n",
       " 0.0: (array(['sixty eight', 'sixty fifty', 'sixty five', 'sixty four',\n",
       "         'sixty one', 'sixty seven', 'sixty six', 'sixty three',\n",
       "         'sixty two'], dtype='<U11'),\n",
       "  array([ 34,   1,  46, 259, 293,  37,   2,  84, 101])),\n",
       " 2.0: (array(['sixty', 'sixty eight', 'sixty eighteen', 'sixty eighty',\n",
       "         'sixty eleven', 'sixty fifteen', 'sixty fifty', 'sixty five',\n",
       "         'sixty forty', 'sixty four', 'sixty fourteen', 'sixty hundred',\n",
       "         'sixty nineteen', 'sixty one', 'sixty seven', 'sixty seventeen',\n",
       "         'sixty seventy', 'sixty six', 'sixty sixteen', 'sixty sixty',\n",
       "         'sixty ten', 'sixty thirteen', 'sixty thirty', 'sixty thousand',\n",
       "         'sixty three', 'sixty twelve', 'sixty twenty', 'sixty two',\n",
       "         'sixty xxeos', 'sixty xxfake', 'sixty xxfld'], dtype='<U15'),\n",
       "  array([ 37,  72,  11,  13,   8,   6,  12,  76,  15, 119,   2,   1,   9,\n",
       "         105,  77,   7,   6,  35,   7,   7,   8,   6,   5,   5, 108,   2,\n",
       "           3,  88,   1,   4,   2]))}"
      ]
     },
     "execution_count": 53,
     "metadata": {},
     "output_type": "execute_result"
    }
   ],
   "source": [
    "lml.fit_one_cycle(1, -1e-2) ; lml.save('nnon-10p5n5p3n'); sixteenth_to_two_temperatures_after_sixty(lml)"
   ]
  },
  {
   "cell_type": "code",
   "execution_count": 54,
   "metadata": {},
   "outputs": [
    {
     "data": {
      "text/html": [
       "<table border=\"1\" class=\"dataframe\">\n",
       "  <thead>\n",
       "    <tr style=\"text-align: left;\">\n",
       "      <th>epoch</th>\n",
       "      <th>train_loss</th>\n",
       "      <th>valid_loss</th>\n",
       "      <th>accuracy</th>\n",
       "      <th>perplexity</th>\n",
       "      <th>time</th>\n",
       "    </tr>\n",
       "  </thead>\n",
       "  <tbody>\n",
       "    <tr>\n",
       "      <td>0</td>\n",
       "      <td>7.008741</td>\n",
       "      <td>7.661919</td>\n",
       "      <td>0.156250</td>\n",
       "      <td>2125.833252</td>\n",
       "      <td>00:00</td>\n",
       "    </tr>\n",
       "  </tbody>\n",
       "</table>"
      ],
      "text/plain": [
       "<IPython.core.display.HTML object>"
      ]
     },
     "metadata": {},
     "output_type": "display_data"
    },
    {
     "data": {
      "text/plain": [
       "{-4.0: (array(['sixty four', 'sixty one'], dtype='<U10'), array([ 17, 840])),\n",
       " -2.0: (array(['sixty four', 'sixty one'], dtype='<U10'), array([250, 607])),\n",
       " 0.0: (array(['sixty eight', 'sixty five', 'sixty four', 'sixty one',\n",
       "         'sixty seven', 'sixty three', 'sixty two'], dtype='<U11'),\n",
       "  array([  4,   9, 342, 427,   1,  17,  57])),\n",
       " 2.0: (array(['sixty', 'sixty eight', 'sixty eighteen', 'sixty eighty',\n",
       "         'sixty fifteen', 'sixty fifty', 'sixty five', 'sixty forty',\n",
       "         'sixty four', 'sixty fourteen', 'sixty hundred', 'sixty nineteen',\n",
       "         'sixty one', 'sixty seven', 'sixty seventeen', 'sixty seventy',\n",
       "         'sixty six', 'sixty sixteen', 'sixty sixty', 'sixty ten',\n",
       "         'sixty thirteen', 'sixty thirty', 'sixty thousand', 'sixty three',\n",
       "         'sixty twelve', 'sixty twenty', 'sixty two', 'sixty xxfld'],\n",
       "        dtype='<U15'),\n",
       "  array([ 20,  55,   4,   3,   1,   4,  69,   2, 183,   2,   1,   3, 202,\n",
       "          64,   1,   6,  18,   1,   2,   3,   2,   1,   1,  90,   2,   4,\n",
       "         111,   2]))}"
      ]
     },
     "execution_count": 54,
     "metadata": {},
     "output_type": "execute_result"
    }
   ],
   "source": [
    "lml.fit_one_cycle(1, -1e-2) ; lml.save('nnon-10p5n5p4n'); sixteenth_to_two_temperatures_after_sixty(lml)"
   ]
  },
  {
   "cell_type": "code",
   "execution_count": 55,
   "metadata": {},
   "outputs": [
    {
     "data": {
      "text/html": [
       "<table border=\"1\" class=\"dataframe\">\n",
       "  <thead>\n",
       "    <tr style=\"text-align: left;\">\n",
       "      <th>epoch</th>\n",
       "      <th>train_loss</th>\n",
       "      <th>valid_loss</th>\n",
       "      <th>accuracy</th>\n",
       "      <th>perplexity</th>\n",
       "      <th>time</th>\n",
       "    </tr>\n",
       "  </thead>\n",
       "  <tbody>\n",
       "    <tr>\n",
       "      <td>0</td>\n",
       "      <td>10.850733</td>\n",
       "      <td>10.880170</td>\n",
       "      <td>0.135417</td>\n",
       "      <td>53112.621094</td>\n",
       "      <td>00:00</td>\n",
       "    </tr>\n",
       "  </tbody>\n",
       "</table>"
      ],
      "text/plain": [
       "<IPython.core.display.HTML object>"
      ]
     },
     "metadata": {},
     "output_type": "display_data"
    },
    {
     "data": {
      "text/plain": [
       "{-4.0: (array(['sixty one'], dtype='<U9'), array([857])),\n",
       " -2.0: (array(['sixty one'], dtype='<U9'), array([857])),\n",
       " 0.0: (array(['sixty four', 'sixty one', 'sixty two'], dtype='<U10'),\n",
       "  array([ 77, 778,   2])),\n",
       " 2.0: (array(['sixty', 'sixty eight', 'sixty eighty', 'sixty five', 'sixty four',\n",
       "         'sixty one', 'sixty seven', 'sixty six', 'sixty sixteen',\n",
       "         'sixty sixty', 'sixty ten', 'sixty thirteen', 'sixty thousand',\n",
       "         'sixty three', 'sixty two'], dtype='<U14'),\n",
       "  array([  8,  21,   3,  38, 221, 397,  32,   5,   1,   2,   1,   1,   1,\n",
       "          52,  74]))}"
      ]
     },
     "execution_count": 55,
     "metadata": {},
     "output_type": "execute_result"
    }
   ],
   "source": [
    "lml.fit_one_cycle(1, -1e-2) ; lml.save('nnon-10p5n5p5n'); sixteenth_to_two_temperatures_after_sixty(lml)"
   ]
  },
  {
   "cell_type": "code",
   "execution_count": 56,
   "metadata": {},
   "outputs": [
    {
     "data": {
      "text/plain": [
       "Path('models/nnonlml.pth')"
      ]
     },
     "execution_count": 56,
     "metadata": {},
     "output_type": "execute_result"
    }
   ],
   "source": [
    "lml.save('nnonlml')"
   ]
  },
  {
   "cell_type": "code",
   "execution_count": null,
   "metadata": {},
   "outputs": [],
   "source": []
  },
  {
   "cell_type": "code",
   "execution_count": 57,
   "metadata": {},
   "outputs": [
    {
     "data": {
      "text/plain": [
       "<fastai.text.learner.LMLearner at 0x7ff1c864f050>"
      ]
     },
     "execution_count": 57,
     "metadata": {},
     "output_type": "execute_result"
    }
   ],
   "source": [
    "lml = dataloader_to_lm_learner(nndl) ; lml.load('nnonlml')"
   ]
  },
  {
   "cell_type": "code",
   "execution_count": 58,
   "metadata": {},
   "outputs": [
    {
     "data": {
      "text/html": [
       "<table border=\"1\" class=\"dataframe\">\n",
       "  <thead>\n",
       "    <tr style=\"text-align: left;\">\n",
       "      <th>epoch</th>\n",
       "      <th>train_loss</th>\n",
       "      <th>valid_loss</th>\n",
       "      <th>accuracy</th>\n",
       "      <th>perplexity</th>\n",
       "      <th>time</th>\n",
       "    </tr>\n",
       "  </thead>\n",
       "  <tbody>\n",
       "    <tr>\n",
       "      <td>0</td>\n",
       "      <td>1.710440</td>\n",
       "      <td>1.481892</td>\n",
       "      <td>0.467025</td>\n",
       "      <td>4.401266</td>\n",
       "      <td>00:20</td>\n",
       "    </tr>\n",
       "  </tbody>\n",
       "</table>"
      ],
      "text/plain": [
       "<IPython.core.display.HTML object>"
      ]
     },
     "metadata": {},
     "output_type": "display_data"
    },
    {
     "data": {
      "text/plain": [
       "{-4.0: (array(['sixty one', 'sixty three'], dtype='<U11'), array([853,   4])),\n",
       " -2.0: (array(['sixty eight', 'sixty five', 'sixty four', 'sixty one',\n",
       "         'sixty seven', 'sixty six', 'sixty three', 'sixty two'],\n",
       "        dtype='<U11'),\n",
       "  array([  3,  13,  29, 613,   4,   2, 173,  20])),\n",
       " 0.0: (array(['sixty', 'sixty eight', 'sixty five', 'sixty four', 'sixty one',\n",
       "         'sixty seven', 'sixty six', 'sixty three', 'sixty two'],\n",
       "        dtype='<U11'),\n",
       "  array([ 14,  72,  79, 108, 224,  51,  58, 166,  85])),\n",
       " 2.0: (array(['sixty', 'sixty eight', 'sixty eighteen', 'sixty eighty',\n",
       "         'sixty eleven', 'sixty fifteen', 'sixty fifty', 'sixty five',\n",
       "         'sixty forty', 'sixty four', 'sixty fourteen', 'sixty nine',\n",
       "         'sixty nineteen', 'sixty ninety', 'sixty one', 'sixty seven',\n",
       "         'sixty seventeen', 'sixty seventy', 'sixty six', 'sixty sixteen',\n",
       "         'sixty sixty', 'sixty ten', 'sixty thirteen', 'sixty thirty',\n",
       "         'sixty thousand', 'sixty three', 'sixty twelve', 'sixty twenty',\n",
       "         'sixty two', 'sixty xxeos', 'sixty xxfake', 'sixty xxfld'],\n",
       "        dtype='<U15'),\n",
       "  array([49, 59, 11, 18,  6,  6, 13, 60, 11, 90,  5,  2, 10, 10, 82, 70,  6,\n",
       "          7, 96,  3, 16, 10,  9,  7, 10, 89, 11, 11, 75,  2,  2,  1]))}"
      ]
     },
     "execution_count": 58,
     "metadata": {},
     "output_type": "execute_result"
    }
   ],
   "source": [
    "lml.fit_one_cycle(1, 1e-2) ; lml.save('nnon-10p5n5p5n1p'); sixteenth_to_two_temperatures_after_sixty(lml)"
   ]
  },
  {
   "cell_type": "code",
   "execution_count": 59,
   "metadata": {},
   "outputs": [
    {
     "data": {
      "text/html": [
       "<table border=\"1\" class=\"dataframe\">\n",
       "  <thead>\n",
       "    <tr style=\"text-align: left;\">\n",
       "      <th>epoch</th>\n",
       "      <th>train_loss</th>\n",
       "      <th>valid_loss</th>\n",
       "      <th>accuracy</th>\n",
       "      <th>perplexity</th>\n",
       "      <th>time</th>\n",
       "    </tr>\n",
       "  </thead>\n",
       "  <tbody>\n",
       "    <tr>\n",
       "      <td>0</td>\n",
       "      <td>1.527426</td>\n",
       "      <td>1.474667</td>\n",
       "      <td>0.468587</td>\n",
       "      <td>4.369581</td>\n",
       "      <td>00:20</td>\n",
       "    </tr>\n",
       "  </tbody>\n",
       "</table>"
      ],
      "text/plain": [
       "<IPython.core.display.HTML object>"
      ]
     },
     "metadata": {},
     "output_type": "display_data"
    },
    {
     "data": {
      "text/plain": [
       "{-4.0: (array(['sixty one', 'sixty three'], dtype='<U11'), array([856,   1])),\n",
       " -2.0: (array(['sixty', 'sixty eight', 'sixty five', 'sixty four', 'sixty one',\n",
       "         'sixty seven', 'sixty six', 'sixty three', 'sixty two'],\n",
       "        dtype='<U11'),\n",
       "  array([ 30,   4,   8,  11, 606,  10,  14, 138,  36])),\n",
       " 0.0: (array(['sixty', 'sixty eight', 'sixty five', 'sixty four', 'sixty one',\n",
       "         'sixty seven', 'sixty six', 'sixty three', 'sixty two'],\n",
       "        dtype='<U11'),\n",
       "  array([ 74,  63,  65,  85, 201,  76,  65, 139,  89])),\n",
       " 2.0: (array(['sixty', 'sixty eight', 'sixty eighteen', 'sixty eighty',\n",
       "         'sixty eleven', 'sixty fifteen', 'sixty fifty', 'sixty five',\n",
       "         'sixty forty', 'sixty four', 'sixty fourteen', 'sixty hundred',\n",
       "         'sixty nine', 'sixty nineteen', 'sixty ninety', 'sixty one',\n",
       "         'sixty seven', 'sixty seventeen', 'sixty seventy', 'sixty six',\n",
       "         'sixty sixteen', 'sixty sixty', 'sixty ten', 'sixty thirteen',\n",
       "         'sixty thirty', 'sixty thousand', 'sixty three', 'sixty twelve',\n",
       "         'sixty twenty', 'sixty two', 'sixty xxfake', 'sixty xxfld'],\n",
       "        dtype='<U15'),\n",
       "  array([69, 66, 11, 10, 12,  9, 13, 51, 16, 65, 12, 15,  5,  8, 10, 88, 62,\n",
       "          6, 15, 59,  9, 27,  7, 11, 13, 21, 77, 14, 14, 54,  7,  1]))}"
      ]
     },
     "execution_count": 59,
     "metadata": {},
     "output_type": "execute_result"
    }
   ],
   "source": [
    "lml.fit_one_cycle(1, 1e-2) ; lml.save('nnon-10p5n5p5n2p'); sixteenth_to_two_temperatures_after_sixty(lml)"
   ]
  },
  {
   "cell_type": "code",
   "execution_count": 60,
   "metadata": {},
   "outputs": [
    {
     "data": {
      "text/html": [
       "<table border=\"1\" class=\"dataframe\">\n",
       "  <thead>\n",
       "    <tr style=\"text-align: left;\">\n",
       "      <th>epoch</th>\n",
       "      <th>train_loss</th>\n",
       "      <th>valid_loss</th>\n",
       "      <th>accuracy</th>\n",
       "      <th>perplexity</th>\n",
       "      <th>time</th>\n",
       "    </tr>\n",
       "  </thead>\n",
       "  <tbody>\n",
       "    <tr>\n",
       "      <td>0</td>\n",
       "      <td>1.521377</td>\n",
       "      <td>1.473431</td>\n",
       "      <td>0.462207</td>\n",
       "      <td>4.364183</td>\n",
       "      <td>00:20</td>\n",
       "    </tr>\n",
       "  </tbody>\n",
       "</table>"
      ],
      "text/plain": [
       "<IPython.core.display.HTML object>"
      ]
     },
     "metadata": {},
     "output_type": "display_data"
    },
    {
     "data": {
      "text/plain": [
       "{-4.0: (array(['sixty'], dtype='<U5'), array([857])),\n",
       " -2.0: (array(['sixty', 'sixty eight', 'sixty five', 'sixty four', 'sixty one',\n",
       "         'sixty seven', 'sixty six', 'sixty three', 'sixty two'],\n",
       "        dtype='<U11'),\n",
       "  array([685,  10,   3,   5, 109,   2,   3,  28,  12])),\n",
       " 0.0: (array(['sixty', 'sixty eight', 'sixty five', 'sixty four', 'sixty nine',\n",
       "         'sixty ninety', 'sixty one', 'sixty seven', 'sixty seventy',\n",
       "         'sixty six', 'sixty sixteen', 'sixty thousand', 'sixty three',\n",
       "         'sixty twenty', 'sixty two'], dtype='<U14'),\n",
       "  array([214,  73,  46,  87,   1,   1, 156,  41,   1,  52,   1,   2, 115,\n",
       "           1,  66])),\n",
       " 2.0: (array(['sixty', 'sixty eight', 'sixty eighteen', 'sixty eighty',\n",
       "         'sixty eleven', 'sixty fifteen', 'sixty fifty', 'sixty five',\n",
       "         'sixty forty', 'sixty four', 'sixty fourteen', 'sixty hundred',\n",
       "         'sixty nine', 'sixty nineteen', 'sixty ninety', 'sixty one',\n",
       "         'sixty seven', 'sixty seventeen', 'sixty seventy', 'sixty six',\n",
       "         'sixty sixteen', 'sixty sixty', 'sixty ten', 'sixty thirteen',\n",
       "         'sixty thirty', 'sixty thousand', 'sixty three', 'sixty twelve',\n",
       "         'sixty twenty', 'sixty two', 'sixty xxeos', 'sixty xxfake',\n",
       "         'sixty xxfld'], dtype='<U15'),\n",
       "  array([86, 58, 15, 30, 18,  9, 22, 45, 18, 48,  9, 20, 17, 10, 13, 66, 49,\n",
       "         21, 13, 45,  8, 19, 17,  8, 18, 26, 62,  9, 17, 52,  4,  3,  2]))}"
      ]
     },
     "execution_count": 60,
     "metadata": {},
     "output_type": "execute_result"
    }
   ],
   "source": [
    "lml.fit_one_cycle(1, 1e-2) ; lml.save('nnon-10p5n5p5n3p'); sixteenth_to_two_temperatures_after_sixty(lml)"
   ]
  },
  {
   "cell_type": "code",
   "execution_count": 61,
   "metadata": {},
   "outputs": [
    {
     "data": {
      "text/html": [
       "<table border=\"1\" class=\"dataframe\">\n",
       "  <thead>\n",
       "    <tr style=\"text-align: left;\">\n",
       "      <th>epoch</th>\n",
       "      <th>train_loss</th>\n",
       "      <th>valid_loss</th>\n",
       "      <th>accuracy</th>\n",
       "      <th>perplexity</th>\n",
       "      <th>time</th>\n",
       "    </tr>\n",
       "  </thead>\n",
       "  <tbody>\n",
       "    <tr>\n",
       "      <td>0</td>\n",
       "      <td>1.520733</td>\n",
       "      <td>1.473021</td>\n",
       "      <td>0.463184</td>\n",
       "      <td>4.362392</td>\n",
       "      <td>00:20</td>\n",
       "    </tr>\n",
       "  </tbody>\n",
       "</table>"
      ],
      "text/plain": [
       "<IPython.core.display.HTML object>"
      ]
     },
     "metadata": {},
     "output_type": "display_data"
    },
    {
     "data": {
      "text/plain": [
       "{-4.0: (array(['sixty'], dtype='<U5'), array([857])),\n",
       " -2.0: (array(['sixty', 'sixty eight', 'sixty four', 'sixty one', 'sixty seven',\n",
       "         'sixty six', 'sixty three', 'sixty two'], dtype='<U11'),\n",
       "  array([833,   1,   4,   9,   1,   2,   4,   3])),\n",
       " 0.0: (array(['sixty', 'sixty eight', 'sixty eighty', 'sixty five', 'sixty four',\n",
       "         'sixty hundred', 'sixty nine', 'sixty nineteen', 'sixty ninety',\n",
       "         'sixty one', 'sixty seven', 'sixty six', 'sixty sixty',\n",
       "         'sixty thirty', 'sixty thousand', 'sixty three', 'sixty two'],\n",
       "        dtype='<U14'),\n",
       "  array([269,  64,   3,  66,  75,   5,   2,   1,   1,  84,  73,  59,   1,\n",
       "           1,   3,  66,  84])),\n",
       " 2.0: (array(['sixty', 'sixty eight', 'sixty eighteen', 'sixty eighty',\n",
       "         'sixty eleven', 'sixty fifteen', 'sixty fifty', 'sixty five',\n",
       "         'sixty forty', 'sixty four', 'sixty fourteen', 'sixty hundred',\n",
       "         'sixty nine', 'sixty nineteen', 'sixty ninety', 'sixty one',\n",
       "         'sixty seven', 'sixty seventeen', 'sixty seventy', 'sixty six',\n",
       "         'sixty sixteen', 'sixty sixty', 'sixty ten', 'sixty thirteen',\n",
       "         'sixty thirty', 'sixty thousand', 'sixty three', 'sixty twelve',\n",
       "         'sixty twenty', 'sixty two', 'sixty xxeos', 'sixty xxfake',\n",
       "         'sixty xxfld'], dtype='<U15'),\n",
       "  array([85, 69, 17, 15, 11, 16, 27, 40, 22, 52, 16, 24, 24, 11, 15, 60, 59,\n",
       "         12, 18, 32, 10, 19, 14,  8, 14, 29, 41, 11, 15, 56,  2,  8,  5]))}"
      ]
     },
     "execution_count": 61,
     "metadata": {},
     "output_type": "execute_result"
    }
   ],
   "source": [
    "lml.fit_one_cycle(1, 1e-2) ; lml.save('nnon-10p5n5p5n4p'); sixteenth_to_two_temperatures_after_sixty(lml)"
   ]
  },
  {
   "cell_type": "code",
   "execution_count": 62,
   "metadata": {},
   "outputs": [
    {
     "data": {
      "text/html": [
       "<table border=\"1\" class=\"dataframe\">\n",
       "  <thead>\n",
       "    <tr style=\"text-align: left;\">\n",
       "      <th>epoch</th>\n",
       "      <th>train_loss</th>\n",
       "      <th>valid_loss</th>\n",
       "      <th>accuracy</th>\n",
       "      <th>perplexity</th>\n",
       "      <th>time</th>\n",
       "    </tr>\n",
       "  </thead>\n",
       "  <tbody>\n",
       "    <tr>\n",
       "      <td>0</td>\n",
       "      <td>1.513685</td>\n",
       "      <td>1.470454</td>\n",
       "      <td>0.469954</td>\n",
       "      <td>4.351209</td>\n",
       "      <td>00:28</td>\n",
       "    </tr>\n",
       "  </tbody>\n",
       "</table>"
      ],
      "text/plain": [
       "<IPython.core.display.HTML object>"
      ]
     },
     "metadata": {},
     "output_type": "display_data"
    },
    {
     "data": {
      "text/plain": [
       "{-4.0: (array(['sixty'], dtype='<U5'), array([857])),\n",
       " -2.0: (array(['sixty', 'sixty eight', 'sixty five', 'sixty four', 'sixty one',\n",
       "         'sixty seven', 'sixty six', 'sixty three', 'sixty two'],\n",
       "        dtype='<U11'),\n",
       "  array([772,  12,   5,  13,  19,   7,   2,  11,  16])),\n",
       " 0.0: (array(['sixty', 'sixty eight', 'sixty eighty', 'sixty fifty',\n",
       "         'sixty five', 'sixty four', 'sixty hundred', 'sixty nine',\n",
       "         'sixty one', 'sixty seven', 'sixty seventy', 'sixty six',\n",
       "         'sixty sixty', 'sixty ten', 'sixty thousand', 'sixty three',\n",
       "         'sixty two'], dtype='<U14'),\n",
       "  array([216,  88,   1,   1,  70,  89,   1,   1,  95,  59,   1,  47,   1,\n",
       "           1,   5,  82,  99])),\n",
       " 2.0: (array(['sixty', 'sixty eight', 'sixty eighteen', 'sixty eighty',\n",
       "         'sixty eleven', 'sixty fifteen', 'sixty fifty', 'sixty five',\n",
       "         'sixty forty', 'sixty four', 'sixty fourteen', 'sixty hundred',\n",
       "         'sixty nine', 'sixty nineteen', 'sixty ninety', 'sixty one',\n",
       "         'sixty seven', 'sixty seventeen', 'sixty seventy', 'sixty six',\n",
       "         'sixty sixteen', 'sixty sixty', 'sixty ten', 'sixty thirteen',\n",
       "         'sixty thirty', 'sixty thousand', 'sixty three', 'sixty twelve',\n",
       "         'sixty twenty', 'sixty two', 'sixty xxeos', 'sixty xxfake',\n",
       "         'sixty xxfld'], dtype='<U15'),\n",
       "  array([87, 59, 12, 18, 15, 10, 16, 50, 18, 51, 11, 14, 26, 13, 14, 64, 47,\n",
       "         13, 20, 50,  7, 16, 12, 10, 14, 27, 50, 13, 13, 67,  5, 10,  5]))}"
      ]
     },
     "execution_count": 62,
     "metadata": {},
     "output_type": "execute_result"
    }
   ],
   "source": [
    "lml.fit_one_cycle(1, 1e-2) ; lml.save('nnon-10p5n5p5n5p'); sixteenth_to_two_temperatures_after_sixty(lml)"
   ]
  },
  {
   "cell_type": "code",
   "execution_count": 63,
   "metadata": {},
   "outputs": [
    {
     "data": {
      "text/html": [
       "<table border=\"1\" class=\"dataframe\">\n",
       "  <thead>\n",
       "    <tr style=\"text-align: left;\">\n",
       "      <th>epoch</th>\n",
       "      <th>train_loss</th>\n",
       "      <th>valid_loss</th>\n",
       "      <th>accuracy</th>\n",
       "      <th>perplexity</th>\n",
       "      <th>time</th>\n",
       "    </tr>\n",
       "  </thead>\n",
       "  <tbody>\n",
       "    <tr>\n",
       "      <td>0</td>\n",
       "      <td>1.506677</td>\n",
       "      <td>1.468627</td>\n",
       "      <td>0.474447</td>\n",
       "      <td>4.343267</td>\n",
       "      <td>00:24</td>\n",
       "    </tr>\n",
       "  </tbody>\n",
       "</table>"
      ],
      "text/plain": [
       "<IPython.core.display.HTML object>"
      ]
     },
     "metadata": {},
     "output_type": "display_data"
    },
    {
     "data": {
      "text/plain": [
       "{-4.0: (array(['sixty'], dtype='<U5'), array([857])),\n",
       " -2.0: (array(['sixty', 'sixty eight', 'sixty five', 'sixty four', 'sixty one',\n",
       "         'sixty seven', 'sixty six', 'sixty three', 'sixty two'],\n",
       "        dtype='<U11'),\n",
       "  array([578,  29,  22,  22,  94,  19,   6,  56,  31])),\n",
       " 0.0: (array(['sixty', 'sixty eight', 'sixty eighty', 'sixty fifty',\n",
       "         'sixty five', 'sixty forty', 'sixty four', 'sixty hundred',\n",
       "         'sixty nine', 'sixty ninety', 'sixty one', 'sixty seven',\n",
       "         'sixty seventeen', 'sixty six', 'sixty thirty', 'sixty thousand',\n",
       "         'sixty three', 'sixty twelve', 'sixty twenty', 'sixty two'],\n",
       "        dtype='<U15'),\n",
       "  array([168,  93,   2,   1,  72,   2,  78,   2,   6,   1, 112,  90,   1,\n",
       "          55,   1,   5,  93,   1,   1,  73])),\n",
       " 2.0: (array(['sixty', 'sixty eight', 'sixty eighteen', 'sixty eighty',\n",
       "         'sixty eleven', 'sixty fifteen', 'sixty fifty', 'sixty five',\n",
       "         'sixty forty', 'sixty four', 'sixty fourteen', 'sixty hundred',\n",
       "         'sixty nine', 'sixty nineteen', 'sixty ninety', 'sixty one',\n",
       "         'sixty seven', 'sixty seventeen', 'sixty seventy', 'sixty six',\n",
       "         'sixty sixteen', 'sixty sixty', 'sixty ten', 'sixty thirteen',\n",
       "         'sixty thirty', 'sixty thousand', 'sixty three', 'sixty twelve',\n",
       "         'sixty twenty', 'sixty two', 'sixty xxeos', 'sixty xxfake',\n",
       "         'sixty xxfld'], dtype='<U15'),\n",
       "  array([87, 53, 14, 13, 11, 13, 15, 55, 11, 57,  7, 31, 23, 15,  9, 68, 54,\n",
       "         15, 14, 48, 11, 25,  5,  9, 18, 32, 54,  8,  7, 55,  4, 12,  4]))}"
      ]
     },
     "execution_count": 63,
     "metadata": {},
     "output_type": "execute_result"
    }
   ],
   "source": [
    "lml.fit_one_cycle(1, 1e-2) ; lml.save('nnon-10p5n5p5n6p'); sixteenth_to_two_temperatures_after_sixty(lml)"
   ]
  },
  {
   "cell_type": "code",
   "execution_count": 64,
   "metadata": {},
   "outputs": [
    {
     "data": {
      "text/html": [
       "<table border=\"1\" class=\"dataframe\">\n",
       "  <thead>\n",
       "    <tr style=\"text-align: left;\">\n",
       "      <th>epoch</th>\n",
       "      <th>train_loss</th>\n",
       "      <th>valid_loss</th>\n",
       "      <th>accuracy</th>\n",
       "      <th>perplexity</th>\n",
       "      <th>time</th>\n",
       "    </tr>\n",
       "  </thead>\n",
       "  <tbody>\n",
       "    <tr>\n",
       "      <td>0</td>\n",
       "      <td>1.517172</td>\n",
       "      <td>1.468764</td>\n",
       "      <td>0.470638</td>\n",
       "      <td>4.343861</td>\n",
       "      <td>00:20</td>\n",
       "    </tr>\n",
       "  </tbody>\n",
       "</table>"
      ],
      "text/plain": [
       "<IPython.core.display.HTML object>"
      ]
     },
     "metadata": {},
     "output_type": "display_data"
    },
    {
     "data": {
      "text/plain": [
       "{-4.0: (array(['sixty'], dtype='<U5'), array([857])),\n",
       " -2.0: (array(['sixty', 'sixty eight', 'sixty five', 'sixty four', 'sixty one',\n",
       "         'sixty seven', 'sixty six', 'sixty three', 'sixty two'],\n",
       "        dtype='<U11'),\n",
       "  array([637,  14,   9,  26, 103,   9,   5,  23,  31])),\n",
       " 0.0: (array(['sixty', 'sixty eight', 'sixty fifty', 'sixty five', 'sixty four',\n",
       "         'sixty fourteen', 'sixty hundred', 'sixty nine', 'sixty one',\n",
       "         'sixty seven', 'sixty six', 'sixty thousand', 'sixty three',\n",
       "         'sixty two'], dtype='<U14'),\n",
       "  array([187,  83,   1,  71,  97,   1,   2,   7, 108,  61,  79,   4,  70,\n",
       "          86])),\n",
       " 2.0: (array(['sixty', 'sixty eight', 'sixty eighteen', 'sixty eighty',\n",
       "         'sixty eleven', 'sixty fifteen', 'sixty fifty', 'sixty five',\n",
       "         'sixty forty', 'sixty four', 'sixty fourteen', 'sixty hundred',\n",
       "         'sixty nine', 'sixty nineteen', 'sixty ninety', 'sixty one',\n",
       "         'sixty seven', 'sixty seventeen', 'sixty seventy', 'sixty six',\n",
       "         'sixty sixteen', 'sixty sixty', 'sixty ten', 'sixty thirteen',\n",
       "         'sixty thirty', 'sixty thousand', 'sixty three', 'sixty twelve',\n",
       "         'sixty twenty', 'sixty two', 'sixty xxeos', 'sixty xxfake',\n",
       "         'sixty xxfld'], dtype='<U15'),\n",
       "  array([77, 53, 12, 17, 10, 10, 18, 52, 15, 63,  5, 20, 29, 10, 16, 71, 42,\n",
       "         20, 16, 56, 11, 10, 12, 13, 11, 23, 56, 15, 13, 66,  1,  9,  5]))}"
      ]
     },
     "execution_count": 64,
     "metadata": {},
     "output_type": "execute_result"
    }
   ],
   "source": [
    "lml.fit_one_cycle(1, 1e-2) ; lml.save('nnon-10p5n5p5n7p'); sixteenth_to_two_temperatures_after_sixty(lml)"
   ]
  },
  {
   "cell_type": "code",
   "execution_count": 65,
   "metadata": {},
   "outputs": [
    {
     "data": {
      "text/html": [
       "<table border=\"1\" class=\"dataframe\">\n",
       "  <thead>\n",
       "    <tr style=\"text-align: left;\">\n",
       "      <th>epoch</th>\n",
       "      <th>train_loss</th>\n",
       "      <th>valid_loss</th>\n",
       "      <th>accuracy</th>\n",
       "      <th>perplexity</th>\n",
       "      <th>time</th>\n",
       "    </tr>\n",
       "  </thead>\n",
       "  <tbody>\n",
       "    <tr>\n",
       "      <td>0</td>\n",
       "      <td>1.509688</td>\n",
       "      <td>1.466905</td>\n",
       "      <td>0.467448</td>\n",
       "      <td>4.335796</td>\n",
       "      <td>00:22</td>\n",
       "    </tr>\n",
       "  </tbody>\n",
       "</table>"
      ],
      "text/plain": [
       "<IPython.core.display.HTML object>"
      ]
     },
     "metadata": {},
     "output_type": "display_data"
    },
    {
     "data": {
      "text/plain": [
       "{-4.0: (array(['sixty', 'sixty one'], dtype='<U9'), array([856,   1])),\n",
       " -2.0: (array(['sixty', 'sixty eight', 'sixty five', 'sixty four', 'sixty one',\n",
       "         'sixty seven', 'sixty six', 'sixty three', 'sixty two'],\n",
       "        dtype='<U11'),\n",
       "  array([528,  36,  18,  29, 126,  19,  25,  29,  47])),\n",
       " 0.0: (array(['sixty', 'sixty eight', 'sixty eighty', 'sixty five', 'sixty four',\n",
       "         'sixty hundred', 'sixty nine', 'sixty ninety', 'sixty one',\n",
       "         'sixty seven', 'sixty seventy', 'sixty six', 'sixty thirty',\n",
       "         'sixty thousand', 'sixty three', 'sixty twenty', 'sixty two'],\n",
       "        dtype='<U14'),\n",
       "  array([192,  90,   1,  59,  65,   1,   5,   3, 115,  67,   1,  79,   1,\n",
       "           3,  80,   2,  93])),\n",
       " 2.0: (array(['sixty', 'sixty eight', 'sixty eighteen', 'sixty eighty',\n",
       "         'sixty eleven', 'sixty fifteen', 'sixty fifty', 'sixty five',\n",
       "         'sixty forty', 'sixty four', 'sixty fourteen', 'sixty hundred',\n",
       "         'sixty nine', 'sixty nineteen', 'sixty ninety', 'sixty one',\n",
       "         'sixty seven', 'sixty seventeen', 'sixty seventy', 'sixty six',\n",
       "         'sixty sixteen', 'sixty sixty', 'sixty ten', 'sixty thirteen',\n",
       "         'sixty thirty', 'sixty thousand', 'sixty three', 'sixty twelve',\n",
       "         'sixty twenty', 'sixty two', 'sixty xxeos', 'sixty xxfake',\n",
       "         'sixty xxfld'], dtype='<U15'),\n",
       "  array([83, 55, 11, 13, 11, 13, 15, 52, 14, 52,  7, 22, 39,  8, 12, 55, 59,\n",
       "         12, 21, 60, 13, 16, 11, 10, 11, 28, 60, 13, 16, 54,  4,  5,  2]))}"
      ]
     },
     "execution_count": 65,
     "metadata": {},
     "output_type": "execute_result"
    }
   ],
   "source": [
    "lml.fit_one_cycle(1, 1e-2) ; lml.save('nnon-10p5n5p5n8p'); sixteenth_to_two_temperatures_after_sixty(lml)"
   ]
  },
  {
   "cell_type": "code",
   "execution_count": 66,
   "metadata": {},
   "outputs": [
    {
     "data": {
      "text/html": [
       "<table border=\"1\" class=\"dataframe\">\n",
       "  <thead>\n",
       "    <tr style=\"text-align: left;\">\n",
       "      <th>epoch</th>\n",
       "      <th>train_loss</th>\n",
       "      <th>valid_loss</th>\n",
       "      <th>accuracy</th>\n",
       "      <th>perplexity</th>\n",
       "      <th>time</th>\n",
       "    </tr>\n",
       "  </thead>\n",
       "  <tbody>\n",
       "    <tr>\n",
       "      <td>0</td>\n",
       "      <td>1.505049</td>\n",
       "      <td>1.468488</td>\n",
       "      <td>0.464974</td>\n",
       "      <td>4.342663</td>\n",
       "      <td>00:21</td>\n",
       "    </tr>\n",
       "  </tbody>\n",
       "</table>"
      ],
      "text/plain": [
       "<IPython.core.display.HTML object>"
      ]
     },
     "metadata": {},
     "output_type": "display_data"
    },
    {
     "data": {
      "text/plain": [
       "{-4.0: (array(['sixty', 'sixty eight', 'sixty four', 'sixty one', 'sixty six',\n",
       "         'sixty three', 'sixty two'], dtype='<U11'),\n",
       "  array([431,   6,   2, 369,   5,  21,  23])),\n",
       " -2.0: (array(['sixty', 'sixty eight', 'sixty five', 'sixty four', 'sixty one',\n",
       "         'sixty seven', 'sixty six', 'sixty three', 'sixty two'],\n",
       "        dtype='<U11'),\n",
       "  array([213,  61,  26,  59, 200,  43,  89,  92,  74])),\n",
       " 0.0: (array(['sixty', 'sixty eight', 'sixty five', 'sixty four', 'sixty nine',\n",
       "         'sixty nineteen', 'sixty one', 'sixty seven', 'sixty seventy',\n",
       "         'sixty six', 'sixty thousand', 'sixty three', 'sixty two'],\n",
       "        dtype='<U14'),\n",
       "  array([113,  76,  74,  85,   9,   1, 104,  94,   2, 102,   6, 103,  88])),\n",
       " 2.0: (array(['sixty', 'sixty eight', 'sixty eighteen', 'sixty eighty',\n",
       "         'sixty eleven', 'sixty fifteen', 'sixty fifty', 'sixty five',\n",
       "         'sixty forty', 'sixty four', 'sixty fourteen', 'sixty hundred',\n",
       "         'sixty nine', 'sixty nineteen', 'sixty ninety', 'sixty one',\n",
       "         'sixty seven', 'sixty seventeen', 'sixty seventy', 'sixty six',\n",
       "         'sixty sixteen', 'sixty sixty', 'sixty ten', 'sixty thirteen',\n",
       "         'sixty thirty', 'sixty thousand', 'sixty three', 'sixty twelve',\n",
       "         'sixty twenty', 'sixty two', 'sixty xxeos', 'sixty xxfake',\n",
       "         'sixty xxfld'], dtype='<U15'),\n",
       "  array([70, 53, 16, 11, 11, 12, 20, 59, 14, 68, 10, 18, 31,  6, 12, 68, 53,\n",
       "         13, 19, 60, 11,  9, 13, 10, 19, 23, 60,  6, 17, 56,  1,  6,  2]))}"
      ]
     },
     "execution_count": 66,
     "metadata": {},
     "output_type": "execute_result"
    }
   ],
   "source": [
    "lml.fit_one_cycle(1, 1e-2) ; lml.save('nnon-10p5n5p5n9p'); sixteenth_to_two_temperatures_after_sixty(lml)"
   ]
  },
  {
   "cell_type": "code",
   "execution_count": 67,
   "metadata": {},
   "outputs": [
    {
     "data": {
      "text/html": [
       "<table border=\"1\" class=\"dataframe\">\n",
       "  <thead>\n",
       "    <tr style=\"text-align: left;\">\n",
       "      <th>epoch</th>\n",
       "      <th>train_loss</th>\n",
       "      <th>valid_loss</th>\n",
       "      <th>accuracy</th>\n",
       "      <th>perplexity</th>\n",
       "      <th>time</th>\n",
       "    </tr>\n",
       "  </thead>\n",
       "  <tbody>\n",
       "    <tr>\n",
       "      <td>0</td>\n",
       "      <td>1.509657</td>\n",
       "      <td>1.470120</td>\n",
       "      <td>0.464486</td>\n",
       "      <td>4.349757</td>\n",
       "      <td>00:20</td>\n",
       "    </tr>\n",
       "  </tbody>\n",
       "</table>"
      ],
      "text/plain": [
       "<IPython.core.display.HTML object>"
      ]
     },
     "metadata": {},
     "output_type": "display_data"
    },
    {
     "data": {
      "text/plain": [
       "{-4.0: (array(['sixty', 'sixty three'], dtype='<U11'), array([856,   1])),\n",
       " -2.0: (array(['sixty', 'sixty eight', 'sixty five', 'sixty four', 'sixty one',\n",
       "         'sixty seven', 'sixty six', 'sixty three', 'sixty two'],\n",
       "        dtype='<U11'),\n",
       "  array([433,  24,  22,  47,  87,  29,  39,  87,  89])),\n",
       " 0.0: (array(['sixty', 'sixty eight', 'sixty eighteen', 'sixty five',\n",
       "         'sixty four', 'sixty hundred', 'sixty nine', 'sixty one',\n",
       "         'sixty seven', 'sixty six', 'sixty thousand', 'sixty three',\n",
       "         'sixty twelve', 'sixty two'], dtype='<U14'),\n",
       "  array([175,  65,   1,  69,  66,   1,  13, 106,  85,  76,   5, 110,   1,\n",
       "          84])),\n",
       " 2.0: (array(['sixty', 'sixty eight', 'sixty eighteen', 'sixty eighty',\n",
       "         'sixty eleven', 'sixty fifteen', 'sixty fifty', 'sixty five',\n",
       "         'sixty forty', 'sixty four', 'sixty fourteen', 'sixty hundred',\n",
       "         'sixty nine', 'sixty nineteen', 'sixty ninety', 'sixty one',\n",
       "         'sixty seven', 'sixty seventeen', 'sixty seventy', 'sixty six',\n",
       "         'sixty sixteen', 'sixty sixty', 'sixty ten', 'sixty thirteen',\n",
       "         'sixty thirty', 'sixty thousand', 'sixty three', 'sixty twelve',\n",
       "         'sixty twenty', 'sixty two', 'sixty xxeos', 'sixty xxfake',\n",
       "         'sixty xxfld'], dtype='<U15'),\n",
       "  array([86, 59, 20, 11, 16,  9, 19, 53, 11, 54,  8, 11, 28, 13, 10, 73, 52,\n",
       "          6, 10, 58, 11, 19, 12,  5, 18, 24, 63, 10, 18, 58,  3,  8,  1]))}"
      ]
     },
     "execution_count": 67,
     "metadata": {},
     "output_type": "execute_result"
    }
   ],
   "source": [
    "lml.fit_one_cycle(1, 1e-2) ; lml.save('nnon-10p5n5p5n10p'); sixteenth_to_two_temperatures_after_sixty(lml)"
   ]
  },
  {
   "cell_type": "code",
   "execution_count": 68,
   "metadata": {},
   "outputs": [
    {
     "data": {
      "text/plain": [
       "Path('models/nnonlml.pth')"
      ]
     },
     "execution_count": 68,
     "metadata": {},
     "output_type": "execute_result"
    }
   ],
   "source": [
    "lml.save('nnonlml')"
   ]
  },
  {
   "cell_type": "code",
   "execution_count": null,
   "metadata": {},
   "outputs": [],
   "source": []
  },
  {
   "cell_type": "code",
   "execution_count": null,
   "metadata": {},
   "outputs": [],
   "source": []
  },
  {
   "cell_type": "code",
   "execution_count": null,
   "metadata": {},
   "outputs": [],
   "source": []
  },
  {
   "cell_type": "code",
   "execution_count": null,
   "metadata": {},
   "outputs": [],
   "source": []
  },
  {
   "cell_type": "code",
   "execution_count": null,
   "metadata": {},
   "outputs": [],
   "source": []
  },
  {
   "cell_type": "code",
   "execution_count": null,
   "metadata": {},
   "outputs": [],
   "source": []
  },
  {
   "cell_type": "code",
   "execution_count": null,
   "metadata": {},
   "outputs": [],
   "source": []
  },
  {
   "cell_type": "code",
   "execution_count": null,
   "metadata": {},
   "outputs": [],
   "source": []
  },
  {
   "cell_type": "code",
   "execution_count": null,
   "metadata": {},
   "outputs": [],
   "source": []
  }
 ],
 "metadata": {
  "kernelspec": {
   "display_name": "Python 3",
   "language": "python",
   "name": "python3"
  },
  "language_info": {
   "codemirror_mode": {
    "name": "ipython",
    "version": 3
   },
   "file_extension": ".py",
   "mimetype": "text/x-python",
   "name": "python",
   "nbconvert_exporter": "python",
   "pygments_lexer": "ipython3",
   "version": "3.7.7"
  }
 },
 "nbformat": 4,
 "nbformat_minor": 4
}
